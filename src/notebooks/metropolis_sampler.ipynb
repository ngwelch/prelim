{
 "cells": [
  {
   "cell_type": "markdown",
   "metadata": {},
   "source": [
    "# Metropolis Sampler Prototype"
   ]
  },
  {
   "cell_type": "markdown",
   "metadata": {},
   "source": [
    "### Initialize priors and parameter values"
   ]
  },
  {
   "cell_type": "code",
   "execution_count": 1,
   "metadata": {
    "collapsed": true
   },
   "outputs": [],
   "source": [
    "mu_a=0.7; \n",
    "mu_b=0.004;\n",
    "theta_a=0.8; \n",
    "theta_b=10;\n",
    "sigma_a=0.5; \n",
    "sigma_b=100;\n",
    "Tlast = 30.;"
   ]
  },
  {
   "cell_type": "code",
   "execution_count": 2,
   "metadata": {
    "collapsed": true
   },
   "outputs": [],
   "source": [
    "theta = theta_a*theta_b; #0.105\n",
    "sigma = sigma_a*sigma_b; #1.15\n",
    "mu = mu_a*mu_b; #0.003"
   ]
  },
  {
   "cell_type": "markdown",
   "metadata": {},
   "source": [
    "### Load likelihood codes and test data"
   ]
  },
  {
   "cell_type": "code",
   "execution_count": 1,
   "metadata": {
    "collapsed": false,
    "scrolled": true
   },
   "outputs": [],
   "source": [
    "include(\"/Users/nwelch/prelim/src/Julia/likelihood_functions.jl\");"
   ]
  },
  {
   "cell_type": "code",
   "execution_count": 4,
   "metadata": {
    "collapsed": false
   },
   "outputs": [],
   "source": [
    "df = readtable(\"/Users/nwelch/prelim/data/plantDataTest.csv\");\n",
    "dst = readtable(\"/Users/nwelch/prelim/data/plantDistanceTest.csv\");"
   ]
  },
  {
   "cell_type": "code",
   "execution_count": 5,
   "metadata": {
    "collapsed": false
   },
   "outputs": [
    {
     "data": {
      "text/html": [
       "<table class=\"data-frame\"><thead><tr><th></th><th>x</th><th>y</th><th>t1</th><th>t2</th><th>t3</th><th>t4</th><th>t5</th><th>t6</th><th>tau</th><th>tauLowerBound</th><th>tauUpperBound</th></tr></thead><tbody><tr><th>1</th><td>1.5</td><td>2.5</td><td>0</td><td>0</td><td>0</td><td>0</td><td>0</td><td>0</td><td>40.0</td><td>40</td><td>40</td></tr><tr><th>2</th><td>1.5</td><td>3.5</td><td>0</td><td>0</td><td>0</td><td>0</td><td>0</td><td>0</td><td>40.0</td><td>40</td><td>40</td></tr><tr><th>3</th><td>1.5</td><td>8.5</td><td>0</td><td>0</td><td>0</td><td>0</td><td>0</td><td>0</td><td>40.0</td><td>40</td><td>40</td></tr><tr><th>4</th><td>1.5</td><td>10.0</td><td>0</td><td>0</td><td>0</td><td>0</td><td>0</td><td>0</td><td>40.0</td><td>40</td><td>40</td></tr><tr><th>5</th><td>3.0</td><td>0.0</td><td>0</td><td>0</td><td>0</td><td>0</td><td>0</td><td>0</td><td>40.0</td><td>40</td><td>40</td></tr><tr><th>6</th><td>3.0</td><td>1.0</td><td>0</td><td>0</td><td>0</td><td>0</td><td>0</td><td>0</td><td>40.0</td><td>40</td><td>40</td></tr></tbody></table>"
      ],
      "text/plain": [
       "6×11 DataFrames.DataFrame\n",
       "│ Row │ x   │ y    │ t1 │ t2 │ t3 │ t4 │ t5 │ t6 │ tau  │ tauLowerBound │\n",
       "├─────┼─────┼──────┼────┼────┼────┼────┼────┼────┼──────┼───────────────┤\n",
       "│ 1   │ 1.5 │ 2.5  │ 0  │ 0  │ 0  │ 0  │ 0  │ 0  │ 40.0 │ 40            │\n",
       "│ 2   │ 1.5 │ 3.5  │ 0  │ 0  │ 0  │ 0  │ 0  │ 0  │ 40.0 │ 40            │\n",
       "│ 3   │ 1.5 │ 8.5  │ 0  │ 0  │ 0  │ 0  │ 0  │ 0  │ 40.0 │ 40            │\n",
       "│ 4   │ 1.5 │ 10.0 │ 0  │ 0  │ 0  │ 0  │ 0  │ 0  │ 40.0 │ 40            │\n",
       "│ 5   │ 3.0 │ 0.0  │ 0  │ 0  │ 0  │ 0  │ 0  │ 0  │ 40.0 │ 40            │\n",
       "│ 6   │ 3.0 │ 1.0  │ 0  │ 0  │ 0  │ 0  │ 0  │ 0  │ 40.0 │ 40            │\n",
       "\n",
       "│ Row │ tauUpperBound │\n",
       "├─────┼───────────────┤\n",
       "│ 1   │ 40            │\n",
       "│ 2   │ 40            │\n",
       "│ 3   │ 40            │\n",
       "│ 4   │ 40            │\n",
       "│ 5   │ 40            │\n",
       "│ 6   │ 40            │"
      ]
     },
     "execution_count": 5,
     "metadata": {},
     "output_type": "execute_result"
    }
   ],
   "source": [
    "head(df)"
   ]
  },
  {
   "cell_type": "markdown",
   "metadata": {},
   "source": [
    "### Simulation Setup"
   ]
  },
  {
   "cell_type": "code",
   "execution_count": 14,
   "metadata": {
    "collapsed": false
   },
   "outputs": [],
   "source": [
    "trials = 1000;\n",
    "infectionCount = sum(df[:t6]);\n",
    "accept = fill(0, 4);\n",
    "accept[4] = trials;"
   ]
  },
  {
   "cell_type": "code",
   "execution_count": 15,
   "metadata": {
    "collapsed": true
   },
   "outputs": [],
   "source": [
    "zero = now()-now()\n",
    "mu_time = zero;\n",
    "sigma_time = zero; \n",
    "tau_time = zero;\n",
    "theta_time = zero;"
   ]
  },
  {
   "cell_type": "code",
   "execution_count": 16,
   "metadata": {
    "collapsed": false
   },
   "outputs": [],
   "source": [
    "firstInfection = indmin(df[:tau]);\n",
    "lastInfection = length(df[:tau]);\n",
    "infectionIndex = firstInfection:lastInfection;"
   ]
  },
  {
   "cell_type": "code",
   "execution_count": 20,
   "metadata": {
    "collapsed": false
   },
   "outputs": [],
   "source": [
    "tau = convert(Array, copy(df[:tau]));\n",
    "tauLowerBound = df[:tauLowerBound];\n",
    "tauUpperBound = df[:tauUpperBound];"
   ]
  },
  {
   "cell_type": "code",
   "execution_count": 23,
   "metadata": {
    "collapsed": false
   },
   "outputs": [],
   "source": [
    "chain = Array{Float64}(trials, (3+infectionCount));\n",
    "chain[1,1:infectionCount] = copy(tau[infectionIndex]);\n",
    "chain[1,(infectionCount+1):(infectionCount+3)] = copy([mu sigma theta]);"
   ]
  },
  {
   "cell_type": "code",
   "execution_count": 11,
   "metadata": {
    "collapsed": true
   },
   "outputs": [],
   "source": [
    "U = Uniform();"
   ]
  },
  {
   "cell_type": "code",
   "execution_count": 12,
   "metadata": {
    "collapsed": false,
    "scrolled": true
   },
   "outputs": [
    {
     "ename": "LoadError",
     "evalue": "MethodError: Cannot `convert` an object of type DataArrays.DataArray{Float64,1} to an object of type SharedArray{T,N}\nThis may have arisen from a call to the constructor SharedArray{T,N}(...),\nsince type constructors fall back to convert methods.",
     "output_type": "error",
     "traceback": [
      "MethodError: Cannot `convert` an object of type DataArrays.DataArray{Float64,1} to an object of type SharedArray{T,N}\nThis may have arisen from a call to the constructor SharedArray{T,N}(...),\nsince type constructors fall back to convert methods.",
      "",
      " in macro expansion; at ./In[12]:74 [inlined]",
      " in anonymous at ./<missing>:?"
     ]
    }
   ],
   "source": [
    "for r=2:trials\n",
    "    \n",
    "    tau[infectionIndex] = copy(chain[r-1, 1:infectionCount])\n",
    "    mu = copy(chain[(r-1), (infectionCount+1)])\n",
    "    sigma = copy(chain[(r-1), (infectionCount+2)])\n",
    "    theta = copy(chain[(r-1), (infectionCount+3)])\n",
    "    \n",
    "    \n",
    "    # sample U to generate the acceptance criteria\n",
    "    u = rand(U, (infectionCount+3))\n",
    "    logU = log(u)\n",
    "    \n",
    "    \n",
    "    # shared function arguments\n",
    "    tauLessTIndex = find(x-> x<=Tlast, tau)\n",
    "    tauGreaterTIndex = find(x-> x>Tlast, tau)\n",
    "    \n",
    "    \n",
    "    # update mu\n",
    "    mu_start = now()\n",
    "    J_mu = Normal(mu, 0.0005)\n",
    "    muStar = rand(J_mu, 1)[1]\n",
    "    if muStar>0.0\n",
    "        logLRatio_mu = llRatio_mu(mu, muStar, theta, sigma, tau, dst)\n",
    "                              \n",
    "        if logU[1] < logLRatio_mu\n",
    "            mu = copy(muStar)\n",
    "            accept[1] = accept[1] + 1\n",
    "        end\n",
    "    end\n",
    "    mu_time = mu_time + (now() - mu_start);\n",
    "  \n",
    "    \n",
    "    # update sigma\n",
    "    sigma_start = now()\n",
    "    J_sigma = Normal(sigma, 0.05)\n",
    "    sigmaStar = rand(J_sigma, 1)[1]\n",
    "    if sigmaStar>0.0\n",
    "        \n",
    "        gaussian_s = Normal(mu, sigma)\n",
    "        gaussianStar_s = Normal(mu, sigmaStar)\n",
    "        \n",
    "        logLRatio_sigma = llRatio_sigma(sigma, sigmaStar,\n",
    "            gaussian_s, gaussianStar_s, mu, tau, theta, dst)\n",
    "        \n",
    "        if logU[2] < logLRatio_sigma  \n",
    "            sigma = copy(sigmaStar)\n",
    "            accept[2] = accept[2] + 1\n",
    "        end\n",
    "    end\n",
    "    sigma_time = sigma_time + (now() - sigma_start);\n",
    "    \n",
    "    \n",
    "    # update theta\n",
    "    theta_start = now()\n",
    "    J_theta = Normal(theta, 0.005)\n",
    "    thetaStar = rand(J_theta, 1)[1]\n",
    "    if thetaStar>0.\n",
    "        gaussian_t = Normal(mu, sigma)\n",
    "        logLRatio_theta = llRatio_theta(theta, thetaStar,\n",
    "            mu, tau, sigma, gaussian_t, dst)\n",
    "        \n",
    "        if logU[3] < logLRatio_theta \n",
    "            theta = copy(thetaStar)\n",
    "            accept[3] = accept[3] + 1\n",
    "        end \n",
    "    end\n",
    "    theta_time = theta_time + (now() - theta_start);\n",
    "    \n",
    "    \n",
    "    #tau update\n",
    "    tau_start = now()\n",
    "    gaussian_tau = Normal(mu, sigma)\n",
    "    tau = convert(SharedArray, tau)\n",
    "    index=1\n",
    "    for iStar=infectionIndex\n",
    "        \n",
    "        J_taui = Normal(tau[iStar], 1)\n",
    "        tauiStar = rand(J_taui, 1)[1]\n",
    "\n",
    "        lowerBound = tauLowerBound[iStar]\n",
    "        upperBound = tauUpperBound[iStar]\n",
    "        \n",
    "        if (tauiStar<upperBound) & (tauiStar>lowerBound)\n",
    "            logLRatio_tau = llRatio_tau(tau, tauiStar, iStar,\n",
    "                mu, theta, sigma, gaussian_tau, dst)\n",
    "\n",
    "            if logU[(index+3)] < logLRatio_tau\n",
    "                tau[iStar] = copy(tauiStar)\n",
    "            end\n",
    "        end\n",
    "        index+=1\n",
    "    end\n",
    "    tau_time = tau_time + (now() - tau_start);\n",
    "    \n",
    "    chain[r,1:infectionCount] = copy(tau[infectionIndex]);\n",
    "    chain[r,(infectionCount+1):(infectionCount+3)] = copy([mu sigma theta]);\n",
    "end"
   ]
  },
  {
   "cell_type": "code",
   "execution_count": 60,
   "metadata": {
    "collapsed": false
   },
   "outputs": [],
   "source": [
    "metrics = DataFrame(\n",
    "    mu_accept=accept[1],\n",
    "    sigma_accept=accept[2],\n",
    "    theta_accept=accept[3],\n",
    "    mu_time=mu_time,\n",
    "    sigma_time=sigma_time,\n",
    "    theta_time=theta_time,\n",
    "    tau_time=tau_time);"
   ]
  },
  {
   "cell_type": "code",
   "execution_count": 61,
   "metadata": {
    "collapsed": false
   },
   "outputs": [],
   "source": [
    "chainDF = DataFrame(chain);\n",
    "chainColNames = [Symbol(\"tau$i\") for i in 1:(infectionCount)];\n",
    "chainColNames = append!(chainColNames, [\"mu\",\"sigma\",\"theta\"]);\n",
    "names!(chainDF, chainColNames);"
   ]
  },
  {
   "cell_type": "code",
   "execution_count": 62,
   "metadata": {
    "collapsed": true
   },
   "outputs": [],
   "source": [
    "writetable(\"/Users/nwelch/prelim/data/mcmc_chain_julia_metrics.csv\", \n",
    "    metrics, separator = ',', header = true);"
   ]
  },
  {
   "cell_type": "code",
   "execution_count": 63,
   "metadata": {
    "collapsed": true
   },
   "outputs": [],
   "source": [
    "writetable(\"/Users/nwelch/prelim/data/mcmc_chain_julia.csv\", \n",
    "    chainDF, separator = ',', header = true);"
   ]
  }
 ],
 "metadata": {
  "kernelspec": {
   "display_name": "Julia 0.5.1",
   "language": "julia",
   "name": "julia-0.5"
  },
  "language_info": {
   "file_extension": ".jl",
   "mimetype": "application/julia",
   "name": "julia",
   "version": "0.5.1"
  }
 },
 "nbformat": 4,
 "nbformat_minor": 2
}
