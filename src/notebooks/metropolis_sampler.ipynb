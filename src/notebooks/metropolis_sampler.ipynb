{
 "cells": [
  {
   "cell_type": "markdown",
   "metadata": {},
   "source": [
    "# Metropolis Sampler Prototype"
   ]
  },
  {
   "cell_type": "markdown",
   "metadata": {},
   "source": [
    "### Load likelihood codes and test data"
   ]
  },
  {
   "cell_type": "code",
   "execution_count": 109,
   "metadata": {
    "collapsed": false,
    "scrolled": true
   },
   "outputs": [
    {
     "name": "stderr",
     "output_type": "stream",
     "text": [
      "WARNING: Method definition getLogLambda(Any, Any, Any, Any, Any) in module Main at /Users/nwelch/prelim/src/Julia/likelihood_functions.jl:17 overwritten at /Users/nwelch/prelim/src/Julia/likelihood_functions.jl:17.\n",
      "WARNING: Method definition getLogLambda(Any, Any, Any, Any, Any, Any) in module Main at /Users/nwelch/prelim/src/Julia/likelihood_functions.jl:17 overwritten at /Users/nwelch/prelim/src/Julia/likelihood_functions.jl:17.\n",
      "WARNING: Method definition llRatio_mu(Any, Any, Any, Any, Any, Any) in module Main at /Users/nwelch/prelim/src/Julia/likelihood_functions.jl:41 overwritten at /Users/nwelch/prelim/src/Julia/likelihood_functions.jl:41.\n",
      "WARNING: Method definition #llRatio_mu(Array{Any, 1}, Main.#llRatio_mu, Any, Any, Any, Any, Any, Any) in module Main overwritten.\n",
      "WARNING: Method definition getSumLessT_sigma(Any, Any, Any, Any, Any, Any) in module Main at /Users/nwelch/prelim/src/Julia/likelihood_functions.jl:66 overwritten at /Users/nwelch/prelim/src/Julia/likelihood_functions.jl:66.\n",
      "WARNING: Method definition #getSumLessT_sigma(Array{Any, 1}, Main.#getSumLessT_sigma, Any, Any, Any, Any, Any, Any) in module Main overwritten.\n",
      "WARNING: Method definition getSumGreaterT_sigma(Any, Any, Any, Any, Any, Any) in module Main at /Users/nwelch/prelim/src/Julia/likelihood_functions.jl:88 overwritten at /Users/nwelch/prelim/src/Julia/likelihood_functions.jl:88.\n",
      "WARNING: Method definition #getSumGreaterT_sigma(Array{Any, 1}, Main.#getSumGreaterT_sigma, Any, Any, Any, Any, Any, Any) in module Main overwritten.\n",
      "WARNING: Method definition llRatio_sigma(Any, Any, Any, Any, Any, Any) in module Main at /Users/nwelch/prelim/src/Julia/likelihood_functions.jl:112 overwritten at /Users/nwelch/prelim/src/Julia/likelihood_functions.jl:112.\n",
      "WARNING: Method definition #llRatio_sigma(Array{Any, 1}, Main.#llRatio_sigma, Any, Any, Any, Any, Any, Any) in module Main overwritten.\n",
      "WARNING: Method definition getSumLessT_theta(Any, Any, Any, Any, Any, Any) in module Main at /Users/nwelch/prelim/src/Julia/likelihood_functions.jl:132 overwritten at /Users/nwelch/prelim/src/Julia/likelihood_functions.jl:132.\n",
      "WARNING: Method definition getSumLessT_theta(Any, Any, Any, Any, Any, Any, Any) in module Main at /Users/nwelch/prelim/src/Julia/likelihood_functions.jl:132 overwritten at /Users/nwelch/prelim/src/Julia/likelihood_functions.jl:132.\n",
      "WARNING: Method definition getSumGreaterT_theta(Any, Any, Any, Any, Any, Any) in module Main at /Users/nwelch/prelim/src/Julia/likelihood_functions.jl:153 overwritten at /Users/nwelch/prelim/src/Julia/likelihood_functions.jl:153.\n",
      "WARNING: Method definition llRatio_theta(Any, Any, Any, Any, Any, Any) in module Main at /Users/nwelch/prelim/src/Julia/likelihood_functions.jl:175 overwritten at /Users/nwelch/prelim/src/Julia/likelihood_functions.jl:175.\n",
      "WARNING: Method definition llRatio_theta(Any, Any, Any, Any, Any, Any, Any) in module Main at /Users/nwelch/prelim/src/Julia/likelihood_functions.jl:175 overwritten at /Users/nwelch/prelim/src/Julia/likelihood_functions.jl:175.\n",
      "WARNING: Method definition llRatio_theta(Any, Any, Any, Any, Any, Any, Any, Any) in module Main at /Users/nwelch/prelim/src/Julia/likelihood_functions.jl:175 overwritten at /Users/nwelch/prelim/src/Julia/likelihood_functions.jl:175.\n",
      "WARNING: Method definition llRatio_theta(Any, Any, Any, Any, Any, Any, Any, Any, Any) in module Main at /Users/nwelch/prelim/src/Julia/likelihood_functions.jl:175 overwritten at /Users/nwelch/prelim/src/Julia/likelihood_functions.jl:175.\n",
      "WARNING: Method definition getMinSum(Any, Any, Any, Any, Any, Any, Any) in module Main at /Users/nwelch/prelim/src/Julia/likelihood_functions.jl:196 overwritten at /Users/nwelch/prelim/src/Julia/likelihood_functions.jl:196.\n",
      "WARNING: Method definition getMaxSum(Any, Any, Any, Any, Any, Any, Any) in module Main at /Users/nwelch/prelim/src/Julia/likelihood_functions.jl:211 overwritten at /Users/nwelch/prelim/src/Julia/likelihood_functions.jl:211.\n",
      "WARNING: Method definition getSumIntervalBelowTauStar(Any, Any, Any, Any, Any, Any, Any) in module Main at /Users/nwelch/prelim/src/Julia/likelihood_functions.jl:228 overwritten at /Users/nwelch/prelim/src/Julia/likelihood_functions.jl:228.\n",
      "WARNING: Method definition getSumIntervalAboveTauStar(Any, Any, Any, Any, Any, Any, Any) in module Main at /Users/nwelch/prelim/src/Julia/likelihood_functions.jl:244 overwritten at /Users/nwelch/prelim/src/Julia/likelihood_functions.jl:244.\n",
      "WARNING: Method definition llRatio_tau(Any, Any, Any, Any, Any, Any, Any) in module Main at /Users/nwelch/prelim/src/Julia/likelihood_functions.jl:259 overwritten at /Users/nwelch/prelim/src/Julia/likelihood_functions.jl:259.\n",
      "WARNING: Method definition llRatio_tau(Any, Any, Any, Any, Any, Any, Any, Any) in module Main at /Users/nwelch/prelim/src/Julia/likelihood_functions.jl:259 overwritten at /Users/nwelch/prelim/src/Julia/likelihood_functions.jl:259.\n"
     ]
    }
   ],
   "source": [
    "include(\"/Users/nwelch/prelim/src/Julia/likelihood_functions.jl\");"
   ]
  },
  {
   "cell_type": "code",
   "execution_count": 182,
   "metadata": {
    "collapsed": true
   },
   "outputs": [],
   "source": [
    "df = readtable(\"/Users/nwelch/prelim/data/infectionDataTest.csv\");\n",
    "dst = readtable(\"/Users/nwelch/prelim/data/infectedDistancesTest.csv\");"
   ]
  },
  {
   "cell_type": "code",
   "execution_count": 183,
   "metadata": {
    "collapsed": false
   },
   "outputs": [
    {
     "data": {
      "text/html": [
       "<table class=\"data-frame\"><thead><tr><th></th><th>x</th><th>y</th><th>t1</th><th>t2</th><th>t3</th><th>t4</th><th>t5</th><th>t6</th><th>tau</th><th>tauLowerBound</th><th>tauUpperBound</th></tr></thead><tbody><tr><th>1</th><td>1.5</td><td>0.0</td><td>0</td><td>0</td><td>1</td><td>1</td><td>1</td><td>1</td><td>12.0</td><td>10</td><td>14</td></tr><tr><th>2</th><td>1.5</td><td>0.5</td><td>0</td><td>0</td><td>0</td><td>0</td><td>1</td><td>1</td><td>21.0</td><td>19</td><td>23</td></tr><tr><th>3</th><td>1.5</td><td>1.0</td><td>0</td><td>0</td><td>1</td><td>1</td><td>1</td><td>1</td><td>12.0</td><td>10</td><td>14</td></tr><tr><th>4</th><td>1.5</td><td>1.5</td><td>0</td><td>0</td><td>0</td><td>1</td><td>1</td><td>1</td><td>16.5</td><td>14</td><td>19</td></tr><tr><th>5</th><td>1.5</td><td>2.0</td><td>0</td><td>0</td><td>0</td><td>1</td><td>1</td><td>1</td><td>16.5</td><td>14</td><td>19</td></tr><tr><th>6</th><td>1.5</td><td>3.0</td><td>0</td><td>0</td><td>0</td><td>0</td><td>0</td><td>1</td><td>26.5</td><td>23</td><td>30</td></tr></tbody></table>"
      ],
      "text/plain": [
       "6×11 DataFrames.DataFrame\n",
       "│ Row │ x   │ y   │ t1 │ t2 │ t3 │ t4 │ t5 │ t6 │ tau  │ tauLowerBound │\n",
       "├─────┼─────┼─────┼────┼────┼────┼────┼────┼────┼──────┼───────────────┤\n",
       "│ 1   │ 1.5 │ 0.0 │ 0  │ 0  │ 1  │ 1  │ 1  │ 1  │ 12.0 │ 10            │\n",
       "│ 2   │ 1.5 │ 0.5 │ 0  │ 0  │ 0  │ 0  │ 1  │ 1  │ 21.0 │ 19            │\n",
       "│ 3   │ 1.5 │ 1.0 │ 0  │ 0  │ 1  │ 1  │ 1  │ 1  │ 12.0 │ 10            │\n",
       "│ 4   │ 1.5 │ 1.5 │ 0  │ 0  │ 0  │ 1  │ 1  │ 1  │ 16.5 │ 14            │\n",
       "│ 5   │ 1.5 │ 2.0 │ 0  │ 0  │ 0  │ 1  │ 1  │ 1  │ 16.5 │ 14            │\n",
       "│ 6   │ 1.5 │ 3.0 │ 0  │ 0  │ 0  │ 0  │ 0  │ 1  │ 26.5 │ 23            │\n",
       "\n",
       "│ Row │ tauUpperBound │\n",
       "├─────┼───────────────┤\n",
       "│ 1   │ 14            │\n",
       "│ 2   │ 23            │\n",
       "│ 3   │ 14            │\n",
       "│ 4   │ 19            │\n",
       "│ 5   │ 19            │\n",
       "│ 6   │ 30            │"
      ]
     },
     "execution_count": 183,
     "metadata": {},
     "output_type": "execute_result"
    }
   ],
   "source": [
    "head(df)"
   ]
  },
  {
   "cell_type": "markdown",
   "metadata": {},
   "source": [
    "### Initialize priors and parameter values"
   ]
  },
  {
   "cell_type": "code",
   "execution_count": 184,
   "metadata": {
    "collapsed": true
   },
   "outputs": [],
   "source": [
    "mu_a=0.7; \n",
    "mu_b=0.004;\n",
    "theta_a=0.8; \n",
    "theta_b=10;\n",
    "sigma_a=0.5; \n",
    "sigma_b=100;"
   ]
  },
  {
   "cell_type": "code",
   "execution_count": 185,
   "metadata": {
    "collapsed": false
   },
   "outputs": [],
   "source": [
    "theta = theta_a*theta_b; #0.105\n",
    "sigma = sigma_a*sigma_b; #1.15\n",
    "mu = mu_a*mu_b; #0.003"
   ]
  },
  {
   "cell_type": "markdown",
   "metadata": {},
   "source": [
    "### Simulation Setup"
   ]
  },
  {
   "cell_type": "code",
   "execution_count": 186,
   "metadata": {
    "collapsed": false
   },
   "outputs": [],
   "source": [
    "trials = 100;\n",
    "infectionCount = sum(df[:t6]);\n",
    "chain = Matrix(trials, (3+infectionCount));\n",
    "accept = Matrix(1, (3+infectionCount));"
   ]
  },
  {
   "cell_type": "code",
   "execution_count": 187,
   "metadata": {
    "collapsed": false
   },
   "outputs": [],
   "source": [
    "chain[1,1:infectionCount] = copy(df[:tau]);\n",
    "chain[1,(infectionCount+1):(infectionCount+3)] = copy([mu sigma theta]);"
   ]
  },
  {
   "cell_type": "code",
   "execution_count": 188,
   "metadata": {
    "collapsed": true
   },
   "outputs": [],
   "source": [
    "U = Uniform();"
   ]
  },
  {
   "cell_type": "code",
   "execution_count": 189,
   "metadata": {
    "collapsed": false,
    "scrolled": false
   },
   "outputs": [],
   "source": [
    "for r=2:trials\n",
    "    \n",
    "    tau = copy(chain[r-1, 1:infectionCount])\n",
    "    mu = copy(chain[(r-1), (infectionCount+1)])\n",
    "    sigma = copy(chain[(r-1), (infectionCount+2)])\n",
    "    theta = copy(chain[(r-1), (infectionCount+3)])\n",
    "    \n",
    "    # sample U to generate the acceptance criteria\n",
    "    u = rand(U, (infectionCount+3))\n",
    "    logU = log(u)\n",
    "    \n",
    "    # update mu\n",
    "    J_mu = Normal(mu, 0.0005)\n",
    "    muStar = rand(J_mu, 1)[1]\n",
    "    if muStar>0\n",
    "        logLRatio_mu = llRatio_mu(mu, muStar, theta, sigma, tau, dst)\n",
    "                              \n",
    "        if logU[1] < logLRatio_mu\n",
    "            mu = copy(muStar)\n",
    "            #accept[1] = accept[1] + 1\n",
    "        end\n",
    "    end\n",
    "  \n",
    "    # update sigma\n",
    "    J_sigma = Normal(sigma, 0.05)\n",
    "    sigmaStar = rand(J_sigma, 1)[1]\n",
    "    if sigmaStar>0.\n",
    "        logLRatio_sigma = llRatio_sigma(sigma, sigmaStar,\n",
    "            mu, tau, theta, dst)\n",
    "        \n",
    "        if logU[2] < logLRatio_sigma  \n",
    "            sigma = copy(sigmaStar)\n",
    "            #accept[2] = copy(accept[2]) + 1\n",
    "        end\n",
    "    end\n",
    "    \n",
    "    # update theta\n",
    "    J_theta = Normal(theta, 0.005)\n",
    "    thetaStar = rand(J_theta, 1)[1]\n",
    "    if thetaStar>0.\n",
    "        logLRatio_theta = llRatio_theta(theta, thetaStar,\n",
    "            mu, tau, sigma, dst)\n",
    "        \n",
    "        if logU[3] < logLRatio_theta \n",
    "            theta = copy(thetaStar)\n",
    "            #accept[3] = copy(accept[3]) + 1\n",
    "        end \n",
    "    end\n",
    "    \n",
    "    for i=1:infectionCount\n",
    "        \n",
    "        J_taui = Normal(tau[i], 1)\n",
    "        tauiStar = rand(J_taui, 1)[1]\n",
    "\n",
    "        lowerBound = df[:tauLowerBound][i]\n",
    "        upperBound = df[:tauUpperBound][i]\n",
    "        \n",
    "        if (tauiStar<upperBound) & (tauiStar>lowerBound)\n",
    "            logLRatio_tau = llRatio_tau(tau, tauiStar, i,\n",
    "                mu, theta, sigma, dst)\n",
    "\n",
    "            if logU[(i+3)] < logLRatio_tau\n",
    "                tau[i] = copy(tauiStar)\n",
    "                #accept[i+3] = copy(accept[i+3]) + 1\n",
    "            end\n",
    "        end\n",
    "    end\n",
    "    chain[r,1:infectionCount] = copy(tau);\n",
    "    chain[r,(infectionCount+1):(infectionCount+3)] = copy([mu sigma theta]);\n",
    "end"
   ]
  },
  {
   "cell_type": "code",
   "execution_count": 180,
   "metadata": {
    "collapsed": false
   },
   "outputs": [],
   "source": [
    "chainDF = DataFrame(chain);"
   ]
  },
  {
   "cell_type": "code",
   "execution_count": 181,
   "metadata": {
    "collapsed": true
   },
   "outputs": [],
   "source": [
    "writetable(\"/Users/nwelch/prelim/data/mcmc_chain_julia.csv\", \n",
    "    chainDF, separator = ',', header = false);"
   ]
  }
 ],
 "metadata": {
  "kernelspec": {
   "display_name": "Julia 0.5.1",
   "language": "julia",
   "name": "julia-0.5"
  },
  "language_info": {
   "file_extension": ".jl",
   "mimetype": "application/julia",
   "name": "julia",
   "version": "0.5.1"
  }
 },
 "nbformat": 4,
 "nbformat_minor": 2
}
