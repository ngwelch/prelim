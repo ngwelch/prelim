{
 "cells": [
  {
   "cell_type": "markdown",
   "metadata": {},
   "source": [
    "# Metropolis Sampler Prototype"
   ]
  },
  {
   "cell_type": "markdown",
   "metadata": {},
   "source": [
    "To Do:\n",
    "* Prototype the multi-core functionality\n",
    "* Improve likelihood implementation for $\\tau$"
   ]
  },
  {
   "cell_type": "markdown",
   "metadata": {},
   "source": [
    "### Initialize priors and parameter values"
   ]
  },
  {
   "cell_type": "code",
   "execution_count": 251,
   "metadata": {
    "collapsed": true
   },
   "outputs": [],
   "source": [
    "mu_a=0.7; \n",
    "mu_b=0.004;\n",
    "theta_a=0.8; \n",
    "theta_b=10;\n",
    "sigma_a=0.5; \n",
    "sigma_b=100;\n",
    "Tlast = 30.;"
   ]
  },
  {
   "cell_type": "code",
   "execution_count": 252,
   "metadata": {
    "collapsed": true
   },
   "outputs": [],
   "source": [
    "theta = theta_a*theta_b; #0.105\n",
    "sigma = sigma_a*sigma_b; #1.15\n",
    "mu = mu_a*mu_b; #0.003"
   ]
  },
  {
   "cell_type": "markdown",
   "metadata": {},
   "source": [
    "### Load likelihood codes and test data"
   ]
  },
  {
   "cell_type": "code",
   "execution_count": 253,
   "metadata": {
    "collapsed": false,
    "scrolled": true
   },
   "outputs": [
    {
     "name": "stderr",
     "output_type": "stream",
     "text": [
      "WARNING: Method definition getLogLambda(Any, Any, Any, Any, Any) in module Main at /Users/nwelch/prelim/src/Julia/likelihood_functions.jl:22 overwritten at /Users/nwelch/prelim/src/Julia/likelihood_functions.jl:22.\n",
      "WARNING: Method definition getLogLambda(Any, Any, Any, Any, Any, Any) in module Main at /Users/nwelch/prelim/src/Julia/likelihood_functions.jl:22 overwritten at /Users/nwelch/prelim/src/Julia/likelihood_functions.jl:22.\n",
      "WARNING: Method definition llRatio_mu(Any, Any, Any, Any, Any, Any) in module Main at /Users/nwelch/prelim/src/Julia/likelihood_functions.jl:44 overwritten at /Users/nwelch/prelim/src/Julia/likelihood_functions.jl:44.\n",
      "WARNING: Method definition #llRatio_mu(Array{Any, 1}, Main.#llRatio_mu, Any, Any, Any, Any, Any, Any) in module Main overwritten.\n",
      "WARNING: Method definition getSumLessT_sigma(Any, Any, Any, Any, Any, Any, Any, Any) in module Main at /Users/nwelch/prelim/src/Julia/likelihood_functions.jl:73 overwritten at /Users/nwelch/prelim/src/Julia/likelihood_functions.jl:73.\n",
      "WARNING: Method definition #getSumLessT_sigma(Array{Any, 1}, Main.#getSumLessT_sigma, Any, Any, Any, Any, Any, Any, Any, Any) in module Main overwritten.\n",
      "WARNING: Method definition getSumGreaterT_sigma(Any, Any, Any, Any, Any, Any, Any, Any) in module Main at /Users/nwelch/prelim/src/Julia/likelihood_functions.jl:94 overwritten at /Users/nwelch/prelim/src/Julia/likelihood_functions.jl:94.\n",
      "WARNING: Method definition #getSumGreaterT_sigma(Array{Any, 1}, Main.#getSumGreaterT_sigma, Any, Any, Any, Any, Any, Any, Any, Any) in module Main overwritten.\n",
      "WARNING: Method definition llRatio_sigma(Any, Any, Any, Any, Any, Any, Any, Any) in module Main at /Users/nwelch/prelim/src/Julia/likelihood_functions.jl:116 overwritten at /Users/nwelch/prelim/src/Julia/likelihood_functions.jl:116.\n",
      "WARNING: Method definition #llRatio_sigma(Array{Any, 1}, Main.#llRatio_sigma, Any, Any, Any, Any, Any, Any, Any, Any) in module Main overwritten.\n",
      "WARNING: Method definition getSumLessT_theta(Any, Any, Any, Any, Any, Any, Any) in module Main at /Users/nwelch/prelim/src/Julia/likelihood_functions.jl:143 overwritten at /Users/nwelch/prelim/src/Julia/likelihood_functions.jl:143.\n",
      "WARNING: Method definition getSumLessT_theta(Any, Any, Any, Any, Any, Any, Any, Any) in module Main at /Users/nwelch/prelim/src/Julia/likelihood_functions.jl:143 overwritten at /Users/nwelch/prelim/src/Julia/likelihood_functions.jl:143.\n",
      "WARNING: Method definition getSumGreaterT_theta(Any, Any, Any, Any, Any, Any, Any) in module Main at /Users/nwelch/prelim/src/Julia/likelihood_functions.jl:162 overwritten at /Users/nwelch/prelim/src/Julia/likelihood_functions.jl:162.\n",
      "WARNING: Method definition getSumGreaterT_theta(Any, Any, Any, Any, Any, Any, Any, Any) in module Main at /Users/nwelch/prelim/src/Julia/likelihood_functions.jl:162 overwritten at /Users/nwelch/prelim/src/Julia/likelihood_functions.jl:162.\n",
      "WARNING: Method definition llRatio_theta(Any, Any, Any, Any, Any, Any, Any) in module Main at /Users/nwelch/prelim/src/Julia/likelihood_functions.jl:182 overwritten at /Users/nwelch/prelim/src/Julia/likelihood_functions.jl:182.\n",
      "WARNING: Method definition llRatio_theta(Any, Any, Any, Any, Any, Any, Any, Any) in module Main at /Users/nwelch/prelim/src/Julia/likelihood_functions.jl:182 overwritten at /Users/nwelch/prelim/src/Julia/likelihood_functions.jl:182.\n",
      "WARNING: Method definition llRatio_theta(Any, Any, Any, Any, Any, Any, Any, Any, Any) in module Main at /Users/nwelch/prelim/src/Julia/likelihood_functions.jl:182 overwritten at /Users/nwelch/prelim/src/Julia/likelihood_functions.jl:182.\n",
      "WARNING: Method definition llRatio_theta(Any, Any, Any, Any, Any, Any, Any, Any, Any, Any) in module Main at /Users/nwelch/prelim/src/Julia/likelihood_functions.jl:182 overwritten at /Users/nwelch/prelim/src/Julia/likelihood_functions.jl:182.\n",
      "WARNING: Method definition getMinSum(Any, Any, Any, Any, Any, Any, Any, Any) in module Main at /Users/nwelch/prelim/src/Julia/likelihood_functions.jl:205 overwritten at /Users/nwelch/prelim/src/Julia/likelihood_functions.jl:205.\n",
      "WARNING: Method definition getMaxSum(Any, Any, Any, Any, Any, Any, Any, Any) in module Main at /Users/nwelch/prelim/src/Julia/likelihood_functions.jl:219 overwritten at /Users/nwelch/prelim/src/Julia/likelihood_functions.jl:219.\n",
      "WARNING: Method definition getSumIntervalBelowTauStar(Any, Any, Any, Any, Any, Any, Any, Any) in module Main at /Users/nwelch/prelim/src/Julia/likelihood_functions.jl:235 overwritten at /Users/nwelch/prelim/src/Julia/likelihood_functions.jl:235.\n",
      "WARNING: Method definition getSumIntervalAboveTauStar(Any, Any, Any, Any, Any, Any, Any, Any) in module Main at /Users/nwelch/prelim/src/Julia/likelihood_functions.jl:250 overwritten at /Users/nwelch/prelim/src/Julia/likelihood_functions.jl:250.\n",
      "WARNING: Method definition llRatio_tau(Any, Any, Any, Any, Any, Any, Any, Any) in module Main at /Users/nwelch/prelim/src/Julia/likelihood_functions.jl:265 overwritten at /Users/nwelch/prelim/src/Julia/likelihood_functions.jl:265.\n",
      "WARNING: Method definition llRatio_tau(Any, Any, Any, Any, Any, Any, Any, Any, Any) in module Main at /Users/nwelch/prelim/src/Julia/likelihood_functions.jl:265 overwritten at /Users/nwelch/prelim/src/Julia/likelihood_functions.jl:265.\n"
     ]
    }
   ],
   "source": [
    "include(\"/Users/nwelch/prelim/src/Julia/likelihood_functions.jl\");"
   ]
  },
  {
   "cell_type": "code",
   "execution_count": 254,
   "metadata": {
    "collapsed": false
   },
   "outputs": [],
   "source": [
    "df = readtable(\"/Users/nwelch/prelim/data/infectionDataTest.csv\");\n",
    "dst = readtable(\"/Users/nwelch/prelim/data/infectedDistancesTest.csv\");"
   ]
  },
  {
   "cell_type": "code",
   "execution_count": 255,
   "metadata": {
    "collapsed": false
   },
   "outputs": [
    {
     "data": {
      "text/html": [
       "<table class=\"data-frame\"><thead><tr><th></th><th>x</th><th>y</th><th>t1</th><th>t2</th><th>t3</th><th>t4</th><th>t5</th><th>t6</th><th>tau</th><th>tauLowerBound</th><th>tauUpperBound</th></tr></thead><tbody><tr><th>1</th><td>1.5</td><td>0.0</td><td>0</td><td>0</td><td>1</td><td>1</td><td>1</td><td>1</td><td>12.0</td><td>10</td><td>14</td></tr><tr><th>2</th><td>1.5</td><td>0.5</td><td>0</td><td>0</td><td>0</td><td>0</td><td>1</td><td>1</td><td>21.0</td><td>19</td><td>23</td></tr><tr><th>3</th><td>1.5</td><td>1.0</td><td>0</td><td>0</td><td>1</td><td>1</td><td>1</td><td>1</td><td>12.0</td><td>10</td><td>14</td></tr><tr><th>4</th><td>1.5</td><td>1.5</td><td>0</td><td>0</td><td>0</td><td>1</td><td>1</td><td>1</td><td>16.5</td><td>14</td><td>19</td></tr><tr><th>5</th><td>1.5</td><td>2.0</td><td>0</td><td>0</td><td>0</td><td>1</td><td>1</td><td>1</td><td>16.5</td><td>14</td><td>19</td></tr><tr><th>6</th><td>1.5</td><td>3.0</td><td>0</td><td>0</td><td>0</td><td>0</td><td>0</td><td>1</td><td>26.5</td><td>23</td><td>30</td></tr></tbody></table>"
      ],
      "text/plain": [
       "6×11 DataFrames.DataFrame\n",
       "│ Row │ x   │ y   │ t1 │ t2 │ t3 │ t4 │ t5 │ t6 │ tau  │ tauLowerBound │\n",
       "├─────┼─────┼─────┼────┼────┼────┼────┼────┼────┼──────┼───────────────┤\n",
       "│ 1   │ 1.5 │ 0.0 │ 0  │ 0  │ 1  │ 1  │ 1  │ 1  │ 12.0 │ 10            │\n",
       "│ 2   │ 1.5 │ 0.5 │ 0  │ 0  │ 0  │ 0  │ 1  │ 1  │ 21.0 │ 19            │\n",
       "│ 3   │ 1.5 │ 1.0 │ 0  │ 0  │ 1  │ 1  │ 1  │ 1  │ 12.0 │ 10            │\n",
       "│ 4   │ 1.5 │ 1.5 │ 0  │ 0  │ 0  │ 1  │ 1  │ 1  │ 16.5 │ 14            │\n",
       "│ 5   │ 1.5 │ 2.0 │ 0  │ 0  │ 0  │ 1  │ 1  │ 1  │ 16.5 │ 14            │\n",
       "│ 6   │ 1.5 │ 3.0 │ 0  │ 0  │ 0  │ 0  │ 0  │ 1  │ 26.5 │ 23            │\n",
       "\n",
       "│ Row │ tauUpperBound │\n",
       "├─────┼───────────────┤\n",
       "│ 1   │ 14            │\n",
       "│ 2   │ 23            │\n",
       "│ 3   │ 14            │\n",
       "│ 4   │ 19            │\n",
       "│ 5   │ 19            │\n",
       "│ 6   │ 30            │"
      ]
     },
     "execution_count": 255,
     "metadata": {},
     "output_type": "execute_result"
    }
   ],
   "source": [
    "head(df)"
   ]
  },
  {
   "cell_type": "markdown",
   "metadata": {},
   "source": [
    "### Simulation Setup"
   ]
  },
  {
   "cell_type": "code",
   "execution_count": 256,
   "metadata": {
    "collapsed": false
   },
   "outputs": [],
   "source": [
    "trials = 100;\n",
    "infectionCount = sum(df[:t6]);\n",
    "chain = Matrix(trials, (3+infectionCount));\n",
    "accept = fill(0, (3+infectionCount));"
   ]
  },
  {
   "cell_type": "code",
   "execution_count": 257,
   "metadata": {
    "collapsed": false
   },
   "outputs": [],
   "source": [
    "chain[1,1:infectionCount] = copy(df[:tau]);\n",
    "chain[1,(infectionCount+1):(infectionCount+3)] = copy([mu sigma theta]);"
   ]
  },
  {
   "cell_type": "code",
   "execution_count": 258,
   "metadata": {
    "collapsed": true
   },
   "outputs": [],
   "source": [
    "U = Uniform();"
   ]
  },
  {
   "cell_type": "code",
   "execution_count": 259,
   "metadata": {
    "collapsed": false,
    "scrolled": true
   },
   "outputs": [],
   "source": [
    "for r=2:trials\n",
    "    \n",
    "    tau = copy(chain[r-1, 1:infectionCount])\n",
    "    mu = copy(chain[(r-1), (infectionCount+1)])\n",
    "    sigma = copy(chain[(r-1), (infectionCount+2)])\n",
    "    theta = copy(chain[(r-1), (infectionCount+3)])\n",
    "    \n",
    "    \n",
    "    # sample U to generate the acceptance criteria\n",
    "    u = rand(U, (infectionCount+3))\n",
    "    logU = log(u)\n",
    "    \n",
    "    \n",
    "    # shared function arguments\n",
    "    tauLessTIndex = find(x-> x<=Tlast, tau)\n",
    "    tauGreaterTIndex = find(x-> x>Tlast, tau)\n",
    "    \n",
    "    \n",
    "    # update mu\n",
    "    mu_start = now()\n",
    "    J_mu = Normal(mu, 0.0005)\n",
    "    muStar = rand(J_mu, 1)[1]\n",
    "    if muStar>0.0\n",
    "        logLRatio_mu = llRatio_mu(mu, muStar, theta, sigma, tau, dst)\n",
    "                              \n",
    "        if logU[1] < logLRatio_mu\n",
    "            mu = copy(muStar)\n",
    "            accept[1] = accept[1] + 1\n",
    "        end\n",
    "    end\n",
    "    mu_time = mu_time + (now() - mu_start);\n",
    "  \n",
    "    \n",
    "    # update sigma\n",
    "    sigma_start = now()\n",
    "    J_sigma = Normal(sigma, 0.05)\n",
    "    sigmaStar = rand(J_sigma, 1)[1]\n",
    "    if sigmaStar>0.0\n",
    "        \n",
    "        gaussian_s = Normal(mu, sigma)\n",
    "        gaussianStar_s = Normal(mu, sigmaStar)\n",
    "        \n",
    "        logLRatio_sigma = llRatio_sigma(sigma, sigmaStar,\n",
    "            gaussian_s, gaussianStar_s, mu, tau, theta, dst)\n",
    "        \n",
    "        if logU[2] < logLRatio_sigma  \n",
    "            sigma = copy(sigmaStar)\n",
    "            accept[2] = copy(accept[2]) + 1\n",
    "        end\n",
    "    end\n",
    "    sigma_time = sigma_time + (now() - sigma_start);\n",
    "    \n",
    "    \n",
    "    # update theta\n",
    "    theta_start = now()\n",
    "    J_theta = Normal(theta, 0.005)\n",
    "    thetaStar = rand(J_theta, 1)[1]\n",
    "    if thetaStar>0.\n",
    "        gaussian_t = Normal(mu, sigma)\n",
    "        logLRatio_theta = llRatio_theta(theta, thetaStar,\n",
    "            mu, tau, sigma, gaussian_t, dst)\n",
    "        \n",
    "        if logU[3] < logLRatio_theta \n",
    "            theta = copy(thetaStar)\n",
    "            accept[3] = copy(accept[3]) + 1\n",
    "        end \n",
    "    end\n",
    "    theta_time = theta_time + (now() - theta_start);\n",
    "    \n",
    "    \n",
    "    #tau update\n",
    "    tau_start = now()\n",
    "    gaussian_tau = Normal(mu, sigma)\n",
    "    for i=1:infectionCount\n",
    "        \n",
    "        J_taui = Normal(tau[i], 1)\n",
    "        tauiStar = rand(J_taui, 1)[1]\n",
    "\n",
    "        lowerBound = df[:tauLowerBound][i]\n",
    "        upperBound = df[:tauUpperBound][i]\n",
    "        \n",
    "        if (tauiStar<upperBound) & (tauiStar>lowerBound)\n",
    "            logLRatio_tau = llRatio_tau(tau, tauiStar, i,\n",
    "                mu, theta, sigma, gaussian_tau, dst)\n",
    "\n",
    "            if logU[(i+3)] < logLRatio_tau\n",
    "                tau[i] = copy(tauiStar)\n",
    "                accept[i+3] = copy(accept[i+3]) + 1\n",
    "            end\n",
    "        end\n",
    "    end\n",
    "    tau_time = tau_time + (now() - tau_start);\n",
    "    \n",
    "    chain[r,1:infectionCount] = copy(tau);\n",
    "    chain[r,(infectionCount+1):(infectionCount+3)] = copy([mu sigma theta]);\n",
    "end"
   ]
  },
  {
   "cell_type": "code",
   "execution_count": 240,
   "metadata": {
    "collapsed": false
   },
   "outputs": [
    {
     "data": {
      "text/plain": [
       "3-element Array{Base.Dates.Millisecond,1}:\n",
       " 101 milliseconds \n",
       " 183 milliseconds \n",
       " 3046 milliseconds"
      ]
     },
     "execution_count": 240,
     "metadata": {},
     "output_type": "execute_result"
    }
   ],
   "source": [
    "timing = [mu_time, sigma_time, tau_time]"
   ]
  },
  {
   "cell_type": "code",
   "execution_count": 262,
   "metadata": {
    "collapsed": false
   },
   "outputs": [
    {
     "data": {
      "text/html": [
       "<table class=\"data-frame\"><thead><tr><th></th><th>acceptCount</th></tr></thead><tbody><tr><th>1</th><td>34</td></tr></tbody></table>"
      ],
      "text/plain": [
       "1×1 DataFrames.DataFrame\n",
       "│ Row │ acceptCount │\n",
       "├─────┼─────────────┤\n",
       "│ 1   │ 34          │"
      ]
     },
     "execution_count": 262,
     "metadata": {},
     "output_type": "execute_result"
    }
   ],
   "source": [
    "DataFrame(acceptCount = infectionCount)"
   ]
  },
  {
   "cell_type": "code",
   "execution_count": 237,
   "metadata": {
    "collapsed": false
   },
   "outputs": [],
   "source": [
    "chainDF = DataFrame(chain);\n",
    "chainColNames = [Symbol(\"tau$i\") for i in 1:(infectionCount)];\n",
    "chainColNames = append!(chainColNames, [\"mu\",\"sigma\",\"theta\"]);\n",
    "names!(chainDF, chainColNames);"
   ]
  },
  {
   "cell_type": "code",
   "execution_count": 237,
   "metadata": {
    "collapsed": true
   },
   "outputs": [],
   "source": [
    "writetable(\"/Users/nwelch/prelim/data/mcmc_chain_julia.csv\", \n",
    "    chainDF, separator = ',', header = true);"
   ]
  }
 ],
 "metadata": {
  "kernelspec": {
   "display_name": "Julia 0.5.1",
   "language": "julia",
   "name": "julia-0.5"
  },
  "language_info": {
   "file_extension": ".jl",
   "mimetype": "application/julia",
   "name": "julia",
   "version": "0.5.1"
  }
 },
 "nbformat": 4,
 "nbformat_minor": 2
}
