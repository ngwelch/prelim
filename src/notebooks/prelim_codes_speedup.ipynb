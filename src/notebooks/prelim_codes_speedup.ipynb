{
 "cells": [
  {
   "cell_type": "code",
   "execution_count": 1,
   "metadata": {
    "collapsed": false
   },
   "outputs": [],
   "source": [
    "using DataFrames;\n",
    "using Distributions;"
   ]
  },
  {
   "cell_type": "code",
   "execution_count": 2,
   "metadata": {
    "collapsed": false,
    "scrolled": true
   },
   "outputs": [],
   "source": [
    "df = readtable(\"/Users/nwelch/prelim/data/infectionDataTest.csv\");\n",
    "dst = readtable(\"/Users/nwelch/prelim/data/infectedDistancesTest.csv\");"
   ]
  },
  {
   "cell_type": "markdown",
   "metadata": {},
   "source": [
    "# Initial Parameter Values"
   ]
  },
  {
   "cell_type": "code",
   "execution_count": 92,
   "metadata": {
    "collapsed": false
   },
   "outputs": [],
   "source": [
    "#priors\n",
    "mu_a=0.7; mu_b=0.004;\n",
    "theta_a=0.8; theta_b=10;\n",
    "sigma_a=0.5; sigma_b=100;\n",
    "\n",
    "# initial/test values\n",
    "u = mu_a*mu_b\n",
    "th = theta_a*theta_b;\n",
    "s = sigma_a*sigma_b;\n",
    "t = [14., 10., 6.];\n",
    "tl = maximum(t);"
   ]
  },
  {
   "cell_type": "markdown",
   "metadata": {},
   "source": [
    "# Function Definitions"
   ]
  },
  {
   "cell_type": "markdown",
   "metadata": {},
   "source": [
    "## log  Lambda"
   ]
  },
  {
   "cell_type": "code",
   "execution_count": 93,
   "metadata": {
    "collapsed": false
   },
   "outputs": [
    {
     "name": "stderr",
     "output_type": "stream",
     "text": [
      "WARNING: Method definition getLogLambda(Any, Any, Any, Any, Any) in module Main at In[4]:2 overwritten at In[93]:2.\n",
      "WARNING: Method definition getLogLambda(Any, Any, Any, Any, Any, Any) in module Main at In[4]:2 overwritten at In[93]:2.\n"
     ]
    },
    {
     "data": {
      "text/plain": [
       "getLogLambda (generic function with 2 methods)"
      ]
     },
     "execution_count": 93,
     "metadata": {},
     "output_type": "execute_result"
    }
   ],
   "source": [
    "function getLogLambda(tau, theta, mu, sigma, dst, Tlast=30)\n",
    "    iLessTlast = find(x-> x<Tlast, tau)\n",
    "    gaussian = Normal(mu, sigma)\n",
    "    \n",
    "    sumLog = 0\n",
    "    for i = iLessTlast\n",
    "        sumTauJLessTauI = 0\n",
    "        jLessI = find(x-> x < tau[i], tau)\n",
    "\n",
    "        for j = jLessI\n",
    "            sumTauJLessTauI = sumTauJLessTauI + pdf(gaussian, dst[i,j])\n",
    "        end\n",
    "        sumLog = sumLog + log(mu + theta*sumTauJLessTauI)\n",
    "    end\n",
    "    sumLog\n",
    "end"
   ]
  },
  {
   "cell_type": "code",
   "execution_count": 94,
   "metadata": {
    "collapsed": false
   },
   "outputs": [
    {
     "data": {
      "text/plain": [
       "-8.586772098851577"
      ]
     },
     "execution_count": 94,
     "metadata": {},
     "output_type": "execute_result"
    }
   ],
   "source": [
    "getLogLambda(t, th, u, s, dst, tl)"
   ]
  },
  {
   "cell_type": "markdown",
   "metadata": {},
   "source": [
    "## $\\mu$ log-likelihood Ratio"
   ]
  },
  {
   "cell_type": "code",
   "execution_count": 95,
   "metadata": {
    "collapsed": false
   },
   "outputs": [
    {
     "name": "stderr",
     "output_type": "stream",
     "text": [
      "WARNING: Method definition llRatio_mu(Any, Any, Any, Any, Any, Any) in module Main at In[6]:4 overwritten at In[95]:4.\n",
      "WARNING: Method definition llRatio_mu(Any, Any, Any, Any, Any, Any, Any) in module Main at In[6]:4 overwritten at In[95]:4.\n",
      "WARNING: Method definition llRatio_mu(Any, Any, Any, Any, Any, Any, Any, Any) in module Main at In[6]:4 overwritten at In[95]:4.\n",
      "WARNING: Method definition llRatio_mu(Any, Any, Any, Any, Any, Any, Any, Any, Any) in module Main at In[6]:4 overwritten at In[95]:4.\n"
     ]
    },
    {
     "data": {
      "text/plain": [
       "llRatio_mu (generic function with 4 methods)"
      ]
     },
     "execution_count": 95,
     "metadata": {},
     "output_type": "execute_result"
    }
   ],
   "source": [
    "muPrior = Gamma(mu_a, mu_b)\n",
    "\n",
    "function llRatio_mu(mu, muStar, theta, sigma, tau, dst, Tlast=30, mu_a=0.7, mu_b=0.004)\n",
    "    tauLessTIndex = find(x-> x<Tlast, tau)\n",
    "    \n",
    "    dmu = mu - muStar\n",
    "    \n",
    "    dllTerm1 = sum(tau[tauLessTIndex]*dmu)\n",
    "    dllTerm2 = length(tauLessTIndex) * Tlast * dmu\n",
    "    \n",
    "    dllTerm3a = getLogLambda(tau, theta, mu, sigma, dst, Tlast)\n",
    "    dllTerm3b = getLogLambda(tau, theta, muStar, sigma, dst, Tlast)\n",
    "    dllTerm3 = dllTerm3a - dllTerm3b\n",
    "    \n",
    "    prior = pdf(muPrior, mu)\n",
    "    priorStar = pdf(muPrior, muStar)\n",
    "    \n",
    "    dll = dllTerm1 + dllTerm2 - dllTerm3 + prior - priorStar\n",
    "    dll\n",
    "end"
   ]
  },
  {
   "cell_type": "code",
   "execution_count": 96,
   "metadata": {
    "collapsed": false
   },
   "outputs": [
    {
     "data": {
      "text/plain": [
       "95.49074474191153"
      ]
     },
     "execution_count": 96,
     "metadata": {},
     "output_type": "execute_result"
    }
   ],
   "source": [
    "llRatio_mu(u, 0.01, th, s, t, dst, tl)"
   ]
  },
  {
   "cell_type": "markdown",
   "metadata": {},
   "source": [
    "## $\\sigma$ log-likelihood Ratio"
   ]
  },
  {
   "cell_type": "markdown",
   "metadata": {},
   "source": [
    "* check the  $\\le$ for Tlast in paper\n",
    "* check the sign on the priors"
   ]
  },
  {
   "cell_type": "code",
   "execution_count": 97,
   "metadata": {
    "collapsed": false
   },
   "outputs": [
    {
     "name": "stderr",
     "output_type": "stream",
     "text": [
      "WARNING: Method definition getSumLessT_sigma(Any, Any, Any, Any, Any, Any) in module Main at In[8]:2 overwritten at In[97]:2.\n",
      "WARNING: Method definition getSumLessT_sigma(Any, Any, Any, Any, Any, Any, Any) in module Main at In[8]:2 overwritten at In[97]:2.\n"
     ]
    },
    {
     "data": {
      "text/plain": [
       "getSumLessT_sigma (generic function with 2 methods)"
      ]
     },
     "execution_count": 97,
     "metadata": {},
     "output_type": "execute_result"
    }
   ],
   "source": [
    "function getSumLessT_sigma(sigma, sigmaStar, mu, tau, theta, dst, Tlast=30.)\n",
    "    tauLessTIndex = find(x -> x<=Tlast, tau) \n",
    "    gaussian = Normal(mu, sigma)\n",
    "    gaussianStar = Normal(mu, sigmaStar)\n",
    "    \n",
    "    sumLessT = 0\n",
    "    for i = tauLessTIndex\n",
    "        sum_ij = 0\n",
    "        tauJLessTauIIndex = find(x-> x<=tau[i], tau)\n",
    "        for j=tauJLessTauIIndex\n",
    "            sum_ij = sum_ij +\n",
    "                (tau[i] - tau[j])*(pdf(gaussian, dst[i,j]) -\n",
    "                                   pdf(gaussianStar, dst[i,j])) \n",
    "        end\n",
    "        sumLessT = sumLessT + theta*sum_ij\n",
    "    end\n",
    "    sumLessT\n",
    "end"
   ]
  },
  {
   "cell_type": "code",
   "execution_count": 98,
   "metadata": {
    "collapsed": false
   },
   "outputs": [
    {
     "data": {
      "text/plain": [
       "0.510535174711277"
      ]
     },
     "execution_count": 98,
     "metadata": {},
     "output_type": "execute_result"
    }
   ],
   "source": [
    "getSumLessT_sigma(s, 100., u, t, th, dst, tl)"
   ]
  },
  {
   "cell_type": "code",
   "execution_count": 99,
   "metadata": {
    "collapsed": false
   },
   "outputs": [
    {
     "name": "stderr",
     "output_type": "stream",
     "text": [
      "WARNING: Method definition getSumGreaterT_sigma(Any, Any, Any, Any, Any, Any) in module Main at In[12]:2 overwritten at In[99]:2.\n",
      "WARNING: Method definition getSumGreaterT_sigma(Any, Any, Any, Any, Any, Any, Any) in module Main at In[12]:2 overwritten at In[99]:2.\n"
     ]
    },
    {
     "data": {
      "text/plain": [
       "getSumGreaterT_sigma (generic function with 2 methods)"
      ]
     },
     "execution_count": 99,
     "metadata": {},
     "output_type": "execute_result"
    }
   ],
   "source": [
    "function getSumGreaterT_sigma(sigma, sigmaStar, mu, tau, theta, dst, Tlast=30.)\n",
    "    tauLessTIndex = find(x -> x<=Tlast, tau)\n",
    "    tauGreaterTIndex = find(x -> x>Tlast, tau)\n",
    "    gaussian = Normal(mu, sigma)\n",
    "    gaussianStar = Normal(mu, sigmaStar)\n",
    "    \n",
    "    sumGreaterT = 0\n",
    "    for i=tauGreaterTIndex\n",
    "        sum_ij = 0\n",
    "        for j=tauLessTIndex\n",
    "            sum_ij = sum_ij + \n",
    "                (Tlast - tau[j])*(pdf(gaussian, dst[i,j]) -\n",
    "                                  pdf(gaussianStar, dst[i,j]))\n",
    "        end\n",
    "        sumGreaterT = sumGreaterT + theta*sum_ij\n",
    "    end\n",
    "    sumGreaterT\n",
    "end"
   ]
  },
  {
   "cell_type": "code",
   "execution_count": 100,
   "metadata": {
    "collapsed": false
   },
   "outputs": [
    {
     "data": {
      "text/plain": [
       "0"
      ]
     },
     "execution_count": 100,
     "metadata": {},
     "output_type": "execute_result"
    }
   ],
   "source": [
    "getSumGreaterT_sigma(s, 100., u, t, th, dst, tl)"
   ]
  },
  {
   "cell_type": "code",
   "execution_count": 101,
   "metadata": {
    "collapsed": false
   },
   "outputs": [
    {
     "name": "stderr",
     "output_type": "stream",
     "text": [
      "WARNING: Method definition llRatio_sigma(Any, Any, Any, Any, Any, Any) in module Main at In[16]:6 overwritten at In[101]:6.\n",
      "WARNING: Method definition llRatio_sigma(Any, Any, Any, Any, Any, Any, Any) in module Main at In[16]:6 overwritten at In[101]:6.\n",
      "WARNING: Method definition llRatio_sigma(Any, Any, Any, Any, Any, Any, Any, Any) in module Main at In[16]:6 overwritten at In[101]:6.\n",
      "WARNING: Method definition llRatio_sigma(Any, Any, Any, Any, Any, Any, Any, Any, Any) in module Main at In[16]:6 overwritten at In[101]:6.\n"
     ]
    },
    {
     "data": {
      "text/plain": [
       "llRatio_sigma (generic function with 4 methods)"
      ]
     },
     "execution_count": 101,
     "metadata": {},
     "output_type": "execute_result"
    }
   ],
   "source": [
    "sigmaPrior = Gamma(sigma_a, sigma_b)\n",
    "\n",
    "function llRatio_sigma(sigma, sigmaStar, mu, tau, theta, dst, Tlast=30.,\n",
    "        sigma_a=0.5, sigma_b=100.)\n",
    "    \n",
    "    dllTerm1 = getSumLessT_sigma(sigma, sigmaStar, mu, tau, theta, dst)\n",
    "\n",
    "    dllTerm2 = getSumGreaterT_sigma(sigma, sigmaStar, mu, tau, theta, dst)\n",
    "    \n",
    "    dllTerm3 = getLogLambda(tau, theta, mu, sigmaStar, dst, Tlast) -\n",
    "        getLogLambda(tau, theta, mu, sigma, dst, Tlast)\n",
    "    \n",
    "    priorStar = pdf(sigmaPrior, sigmaStar)\n",
    "    prior = pdf(sigmaPrior, sigma)\n",
    "    \n",
    "    dll = dllTerm1 + dllTerm2 + dllTerm3 + priorStar - prior\n",
    "    \n",
    "    dll\n",
    "end"
   ]
  },
  {
   "cell_type": "code",
   "execution_count": 102,
   "metadata": {
    "collapsed": false
   },
   "outputs": [
    {
     "data": {
      "text/plain": [
       "-0.14417622119062637"
      ]
     },
     "execution_count": 102,
     "metadata": {},
     "output_type": "execute_result"
    }
   ],
   "source": [
    "llRatio_sigma(s, 100., u, t, th, dst, tl)"
   ]
  },
  {
   "cell_type": "markdown",
   "metadata": {},
   "source": [
    "# $\\theta$ log-likelihood Ratio"
   ]
  },
  {
   "cell_type": "code",
   "execution_count": 103,
   "metadata": {
    "collapsed": false
   },
   "outputs": [
    {
     "name": "stderr",
     "output_type": "stream",
     "text": [
      "WARNING: Method definition getSumLessT_theta(Any, Any, Any, Any, Any, Any) in module Main at In[18]:2 overwritten at In[103]:2.\n",
      "WARNING: Method definition getSumLessT_theta(Any, Any, Any, Any, Any, Any, Any) in module Main at In[18]:2 overwritten at In[103]:2.\n"
     ]
    },
    {
     "data": {
      "text/plain": [
       "getSumLessT_theta (generic function with 2 methods)"
      ]
     },
     "execution_count": 103,
     "metadata": {},
     "output_type": "execute_result"
    }
   ],
   "source": [
    "function getSumLessT_theta(theta, thetaStar, mu, tau, sigma, dst, Tlast=30.)\n",
    "    gaussian = Normal(mu, sigma)\n",
    "    \n",
    "    tauLessTIndex = find(x -> x<=Tlast, tau)\n",
    "    \n",
    "    sumLessT = 0\n",
    "    for i = tauLessTIndex\n",
    "        sum_ij = 0\n",
    "        tauJLessTauIIndex = find(x-> x<=tau[i], tau)\n",
    "        for j = tauJLessTauIIndex\n",
    "            sum_ij = sum_ij + \n",
    "                (tau[i] - tau[j])*(theta - thetaStar)*\n",
    "                    pdf(gaussian, dst[i,j])\n",
    "        end\n",
    "        sumLessT = sumLessT + theta*sum_ij\n",
    "    end\n",
    "    sumLessT\n",
    "end"
   ]
  },
  {
   "cell_type": "code",
   "execution_count": 104,
   "metadata": {
    "collapsed": false
   },
   "outputs": [
    {
     "data": {
      "text/plain": [
       "-2.042330886608999"
      ]
     },
     "execution_count": 104,
     "metadata": {},
     "output_type": "execute_result"
    }
   ],
   "source": [
    "getSumLessT_theta(th, 10., u, t, s, dst, tl)"
   ]
  },
  {
   "cell_type": "code",
   "execution_count": 106,
   "metadata": {
    "collapsed": false
   },
   "outputs": [
    {
     "name": "stderr",
     "output_type": "stream",
     "text": [
      "WARNING: Method definition getSumGreaterT_theta(Any, Any, Any, Any, Any, Any) in module Main at In[105]:2 overwritten at In[106]:2.\n",
      "WARNING: Method definition getSumGreaterT_theta(Any, Any, Any, Any, Any, Any, Any) in module Main at In[105]:2 overwritten at In[106]:2.\n"
     ]
    },
    {
     "data": {
      "text/plain": [
       "getSumGreaterT_theta (generic function with 2 methods)"
      ]
     },
     "execution_count": 106,
     "metadata": {},
     "output_type": "execute_result"
    }
   ],
   "source": [
    "function getSumGreaterT_theta(theta, thetaStar, mu, tau, sigma, dst, Tlast=30.)\n",
    "    tauLessTIndex = find(x -> x<=Tlast, tau)\n",
    "    tauGreaterTIndex = find(x -> x>Tlast, tau)\n",
    "    \n",
    "    gaussian = Normal(mu, sigma)\n",
    "    \n",
    "    sumGreaterT = 0\n",
    "    for i=tauGreaterTIndex\n",
    "        sum_ij = 0\n",
    "        for j=tauLessTIndex\n",
    "            sum_ij = sum_ij + \n",
    "                (Tlast - tau[j])*(theta - thetaStar)*\n",
    "                    pdf(gaussian, dst[i,j])\n",
    "        end\n",
    "    sumGreaterT = sumGreaterT + theta*sum_ij\n",
    "    end\n",
    "    sumGreaterT\n",
    "end"
   ]
  },
  {
   "cell_type": "code",
   "execution_count": 107,
   "metadata": {
    "collapsed": false
   },
   "outputs": [
    {
     "data": {
      "text/plain": [
       "0"
      ]
     },
     "execution_count": 107,
     "metadata": {},
     "output_type": "execute_result"
    }
   ],
   "source": [
    "getSumGreaterT_theta(th, 10., u, t, s, dst, tl)"
   ]
  },
  {
   "cell_type": "code",
   "execution_count": 25,
   "metadata": {
    "collapsed": false
   },
   "outputs": [
    {
     "data": {
      "text/plain": [
       "llRatio_theta (generic function with 4 methods)"
      ]
     },
     "execution_count": 25,
     "metadata": {},
     "output_type": "execute_result"
    }
   ],
   "source": [
    "thetaPrior = Gamma(theta_a, theta_b)\n",
    "\n",
    "function llRatio_theta(theta, thetaStar, mu, tau, sigma, dst, \n",
    "                         Tlast=30, theta_a=0.8, theta_b=10)\n",
    "    \n",
    "    dllTerm1 = getSumLessT_theta(theta, thetaStar, mu, tau, sigma, dst, Tlast)\n",
    "    \n",
    "    dllTerm2 = getSumGreaterT_theta(theta, thetaStar, mu, tau, sigma, dst, Tlast)\n",
    "    \n",
    "    dllTerm3 = getLogLambda(tau, thetaStar, mu, sigma, dst, Tlast) - \n",
    "                    getLogLambda(tau, theta, mu, sigma, dst, Tlast)\n",
    "      \n",
    "    priorStar = pdf(thetaPrior, thetaStar)\n",
    "    prior = pdf(thetaPrior, theta)\n",
    "    \n",
    "    dll = dllTerm1 + dllTerm2 + dllTerm3 + priorStar - prior\n",
    "    \n",
    "    dll\n",
    "end"
   ]
  },
  {
   "cell_type": "code",
   "execution_count": 26,
   "metadata": {
    "collapsed": false
   },
   "outputs": [
    {
     "data": {
      "text/plain": [
       "-11.393468994382678"
      ]
     },
     "execution_count": 26,
     "metadata": {},
     "output_type": "execute_result"
    }
   ],
   "source": [
    "llRatio_theta(th, 20., u, t, s, dst, tl)"
   ]
  },
  {
   "cell_type": "markdown",
   "metadata": {},
   "source": [
    "# $\\tau$ log-likelihood Ratio"
   ]
  },
  {
   "cell_type": "code",
   "execution_count": 108,
   "metadata": {
    "collapsed": false
   },
   "outputs": [
    {
     "name": "stderr",
     "output_type": "stream",
     "text": [
      "WARNING: Method definition getMinSum(Any, Any, Any, Any, Any, Any, Any) in module Main at In[37]:2 overwritten at In[108]:2.\n"
     ]
    },
    {
     "data": {
      "text/plain": [
       "getMinSum (generic function with 1 method)"
      ]
     },
     "execution_count": 108,
     "metadata": {},
     "output_type": "execute_result"
    }
   ],
   "source": [
    "function getMinSum(iStar, tauiStar, mu, tau, theta, sigma, dst)\n",
    "    gaussian = Normal(mu, sigma)\n",
    "    ti = tau[iStar]\n",
    "    minTau = min(tauiStar, ti)\n",
    "\n",
    "    jLessMin = find(x -> x<=minTau, tau)\n",
    "    minSum = 0\n",
    "    for j = jLessMin\n",
    "        minSum = minSum + pdf(gaussian, dst[iStar,j])\n",
    "    end\n",
    "    minSum = (ti - tauiStar)*theta*minSum\n",
    "    minSum\n",
    "end"
   ]
  },
  {
   "cell_type": "code",
   "execution_count": 109,
   "metadata": {
    "collapsed": false
   },
   "outputs": [
    {
     "data": {
      "text/plain": [
       "0.19146852061959363"
      ]
     },
     "execution_count": 109,
     "metadata": {},
     "output_type": "execute_result"
    }
   ],
   "source": [
    "getMinSum(1, 12.5, u, t, th, s, dst)"
   ]
  },
  {
   "cell_type": "code",
   "execution_count": 110,
   "metadata": {
    "collapsed": false
   },
   "outputs": [
    {
     "name": "stderr",
     "output_type": "stream",
     "text": [
      "WARNING: Method definition getMaxSum(Any, Any, Any, Any, Any, Any, Any) in module Main at In[39]:2 overwritten at In[110]:2.\n"
     ]
    },
    {
     "data": {
      "text/plain": [
       "getMaxSum (generic function with 1 method)"
      ]
     },
     "execution_count": 110,
     "metadata": {},
     "output_type": "execute_result"
    }
   ],
   "source": [
    "function getMaxSum(iStar, tauiStar, mu, tau, theta, sigma, dst)\n",
    "    gaussian = Normal(mu, sigma)\n",
    "    ti = tau[iStar]\n",
    "    maxTau = max(tauiStar, ti)\n",
    "    \n",
    "    jGreaterMax = find(x -> x>maxTau, tau)\n",
    "    maxSum = 0\n",
    "    for j = jGreaterMax\n",
    "        maxSum = maxSum + pdf(gaussian, dst[iStar,j])\n",
    "    end\n",
    "    maxSum = (tauiStar - ti)*theta*maxSum\n",
    "    maxSum\n",
    "end"
   ]
  },
  {
   "cell_type": "code",
   "execution_count": 111,
   "metadata": {
    "collapsed": false
   },
   "outputs": [
    {
     "data": {
      "text/plain": [
       "-0.0"
      ]
     },
     "execution_count": 111,
     "metadata": {},
     "output_type": "execute_result"
    }
   ],
   "source": [
    "getMaxSum(1, 12.5, u, t, th, s, dst)"
   ]
  },
  {
   "cell_type": "code",
   "execution_count": 112,
   "metadata": {
    "collapsed": false
   },
   "outputs": [
    {
     "name": "stderr",
     "output_type": "stream",
     "text": [
      "WARNING: Method definition getSumIntervalBelowTauStar(Any, Any, Any, Any, Any, Any, Any) in module Main at In[43]:3 overwritten at In[112]:3.\n"
     ]
    },
    {
     "data": {
      "text/plain": [
       "getSumIntervalBelowTauStar (generic function with 1 method)"
      ]
     },
     "execution_count": 112,
     "metadata": {},
     "output_type": "execute_result"
    }
   ],
   "source": [
    "function getSumIntervalBelowTauStar(iStar, tauiStar, mu, tau, theta, sigma, dst)\n",
    "    \n",
    "    gaussian = Normal(mu, sigma)\n",
    "    ti = tau[iStar]\n",
    "    \n",
    "    jInBetween = find(x -> ((x>ti) & (x<tauiStar)), tau)\n",
    "    sumBelow = 0\n",
    "    for j = jInBetween\n",
    "        sumBelow = sumBelow +\n",
    "            (2*tau[j] - ti - tauiStar)*pdf(gaussian, dst[iStar,j])\n",
    "    end\n",
    "  sumBelow = theta*sumBelow\n",
    "  sumBelow\n",
    "end"
   ]
  },
  {
   "cell_type": "code",
   "execution_count": 113,
   "metadata": {
    "collapsed": false
   },
   "outputs": [
    {
     "data": {
      "text/plain": [
       "0.0"
      ]
     },
     "execution_count": 113,
     "metadata": {},
     "output_type": "execute_result"
    }
   ],
   "source": [
    "getSumIntervalBelowTauStar(1, 12.5, u, t, th, s, dst)"
   ]
  },
  {
   "cell_type": "code",
   "execution_count": 114,
   "metadata": {
    "collapsed": false
   },
   "outputs": [
    {
     "name": "stderr",
     "output_type": "stream",
     "text": [
      "WARNING: Method definition getSumIntervalAboveTauStar(Any, Any, Any, Any, Any, Any, Any) in module Main at In[51]:2 overwritten at In[114]:2.\n"
     ]
    },
    {
     "data": {
      "text/plain": [
       "getSumIntervalAboveTauStar (generic function with 1 method)"
      ]
     },
     "execution_count": 114,
     "metadata": {},
     "output_type": "execute_result"
    }
   ],
   "source": [
    "function getSumIntervalAboveTauStar(iStar, tauiStar, mu, tau, theta, sigma, dst)\n",
    "    gaussian = Normal(mu, sigma)\n",
    "    ti = tau[iStar]\n",
    "    \n",
    "    jInBetween = find(x -> ((x>tauiStar) & (x<ti)), tau)\n",
    "    sumAbove = 0\n",
    "    for j = jInBetween\n",
    "            sumAbove = sumAbove +\n",
    "                (ti + tauiStar - 2*tau[j])*pdf(gaussian, dst[iStar,j])\n",
    "    end\n",
    "    sumAbove = theta*sumAbove\n",
    "    sumAbove\n",
    "end"
   ]
  },
  {
   "cell_type": "code",
   "execution_count": 115,
   "metadata": {
    "collapsed": false
   },
   "outputs": [
    {
     "data": {
      "text/plain": [
       "0.0"
      ]
     },
     "execution_count": 115,
     "metadata": {},
     "output_type": "execute_result"
    }
   ],
   "source": [
    "getSumIntervalAboveTauStar(1, 12.5, u, t, th, s, dst)"
   ]
  },
  {
   "cell_type": "code",
   "execution_count": 123,
   "metadata": {
    "collapsed": false
   },
   "outputs": [
    {
     "name": "stderr",
     "output_type": "stream",
     "text": [
      "WARNING: Method definition llRatio_tau(Any, Any, Any, Any, Any, Any, Any) in module Main at In[118]:2 overwritten at In[123]:2.\n",
      "WARNING: Method definition llRatio_tau(Any, Any, Any, Any, Any, Any, Any, Any) in module Main at In[118]:2 overwritten at In[123]:2.\n"
     ]
    },
    {
     "data": {
      "text/plain": [
       "llRatio_tau (generic function with 2 methods)"
      ]
     },
     "execution_count": 123,
     "metadata": {},
     "output_type": "execute_result"
    }
   ],
   "source": [
    "function llRatio_tau(tau, tauiStar, iStar, mu, theta, sigma, dst, Tlast=30.)\n",
    "    N = length(tau)\n",
    "    \n",
    "    dllTerm1 = mu*(tau[iStar] - tauiStar)\n",
    "    dllTerm2 = getMinSum(iStar, tauiStar, mu, tau, theta, sigma, dst)\n",
    "    dllTerm3 = getMaxSum(iStar, tauiStar, mu, tau, theta, sigma, dst)\n",
    "    dllTerm4 = getSumIntervalBelowTauStar(iStar, tauiStar, mu, tau, \n",
    "                                          theta, sigma, dst)\n",
    "    dllTerm5 = getSumIntervalAboveTauStar(iStar, tauiStar, mu, tau, \n",
    "                                          theta, sigma, dst)\n",
    "    dllTerm6 = getLogLambda(tau, theta, mu, sigma, dst, Tlast)\n",
    "    \n",
    "    tauStar = tau\n",
    "    tauStar[iStar] = tauiStar\n",
    "    \n",
    "    dllTerm7 = getLogLambda(tauStar, theta, mu, sigma, dst, Tlast)\n",
    "    \n",
    "    dll = dllTerm1 + dllTerm2 + dllTerm3 + dllTerm4 + dllTerm5 +\n",
    "        dllTerm6 - dllTerm7\n",
    "    dll\n",
    "end"
   ]
  },
  {
   "cell_type": "code",
   "execution_count": 124,
   "metadata": {
    "collapsed": false
   },
   "outputs": [
    {
     "data": {
      "text/plain": [
       "2.232466901537247"
      ]
     },
     "execution_count": 124,
     "metadata": {},
     "output_type": "execute_result"
    }
   ],
   "source": [
    "llRatio_tau(t, 12.5, 1, u, th, s, dst, tl)"
   ]
  }
 ],
 "metadata": {
  "kernelspec": {
   "display_name": "Julia 0.5.1",
   "language": "julia",
   "name": "julia-0.5"
  },
  "language_info": {
   "file_extension": ".jl",
   "mimetype": "application/julia",
   "name": "julia",
   "version": "0.5.1"
  }
 },
 "nbformat": 4,
 "nbformat_minor": 0
}
