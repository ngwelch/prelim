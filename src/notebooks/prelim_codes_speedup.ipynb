{
 "cells": [
  {
   "cell_type": "code",
   "execution_count": 1,
   "metadata": {
    "collapsed": false
   },
   "outputs": [],
   "source": [
    "using DataFrames;\n",
    "using Distributions;"
   ]
  },
  {
   "cell_type": "code",
   "execution_count": 2,
   "metadata": {
    "collapsed": false,
    "scrolled": true
   },
   "outputs": [],
   "source": [
    "df = readtable(\"/Users/nwelch/prelim/data/infectionDataTest.csv\");\n",
    "dst = readtable(\"/Users/nwelch/prelim/data/infectedDistancesTest.csv\");"
   ]
  },
  {
   "cell_type": "markdown",
   "metadata": {},
   "source": [
    "# Initial Parameter Values"
   ]
  },
  {
   "cell_type": "code",
   "execution_count": 3,
   "metadata": {
    "collapsed": false
   },
   "outputs": [],
   "source": [
    "#priors\n",
    "mu_a=0.7; mu_b=0.004;\n",
    "theta_a=0.8; theta_b=10;\n",
    "sigma_a=0.5; sigma_b=100;\n",
    "\n",
    "# initial/test values\n",
    "u = mu_a*mu_b\n",
    "th = theta_a*theta_b;\n",
    "s = sigma_a*sigma_b;\n",
    "t = [14, 10, 6];\n",
    "tl = maximum(t);"
   ]
  },
  {
   "cell_type": "markdown",
   "metadata": {},
   "source": [
    "# Function Definitions"
   ]
  },
  {
   "cell_type": "markdown",
   "metadata": {},
   "source": [
    "## log  Lambda"
   ]
  },
  {
   "cell_type": "code",
   "execution_count": 4,
   "metadata": {
    "collapsed": false
   },
   "outputs": [
    {
     "data": {
      "text/plain": [
       "getLogLambda (generic function with 2 methods)"
      ]
     },
     "execution_count": 4,
     "metadata": {},
     "output_type": "execute_result"
    }
   ],
   "source": [
    "function getLogLambda(tau, theta, mu, sigma, dst, Tlast=30)\n",
    "    iLessTlast = find(x-> x<Tlast, tau)\n",
    "    gaussian = Normal(mu, sigma)\n",
    "    \n",
    "    sumLog = 0\n",
    "    for i = iLessTlast\n",
    "        sumTauJLessTauI = 0\n",
    "        jLessI = find(x-> x < tau[i], tau)\n",
    "\n",
    "        for j = jLessI\n",
    "            sumTauJLessTauI = sumTauJLessTauI + pdf(gaussian, dst[i,j])\n",
    "        end\n",
    "        sumLog = sumLog + log(mu + theta*sumTauJLessTauI)\n",
    "    end\n",
    "    sumLog\n",
    "end"
   ]
  },
  {
   "cell_type": "code",
   "execution_count": 5,
   "metadata": {
    "collapsed": false
   },
   "outputs": [
    {
     "data": {
      "text/plain": [
       "-8.586772098851577"
      ]
     },
     "execution_count": 5,
     "metadata": {},
     "output_type": "execute_result"
    }
   ],
   "source": [
    "getLogLambda(t, th, u, s, dst, tl)"
   ]
  },
  {
   "cell_type": "markdown",
   "metadata": {},
   "source": [
    "## $\\mu$ log-likelihood Ratio"
   ]
  },
  {
   "cell_type": "code",
   "execution_count": 6,
   "metadata": {
    "collapsed": false
   },
   "outputs": [
    {
     "data": {
      "text/plain": [
       "llRatio_mu (generic function with 4 methods)"
      ]
     },
     "execution_count": 6,
     "metadata": {},
     "output_type": "execute_result"
    }
   ],
   "source": [
    "muPrior = Gamma(mu_a, mu_b)\n",
    "\n",
    "function llRatio_mu(mu, muStar, theta, sigma, tau, dst, Tlast=30, mu_a=0.7, mu_b=0.004)\n",
    "    tauLessTIndex = find(x-> x<Tlast, tau)\n",
    "    \n",
    "    dmu = mu - muStar\n",
    "    \n",
    "    dllTerm1 = sum(tau[tauLessTIndex]*dmu)\n",
    "    dllTerm2 = length(tauLessTIndex) * Tlast * dmu\n",
    "    \n",
    "    dllTerm3a = getLogLambda(tau, theta, mu, sigma, dst, Tlast)\n",
    "    dllTerm3b = getLogLambda(tau, theta, muStar, sigma, dst, Tlast)\n",
    "    dllTerm3 = dllTerm3a - dllTerm3b\n",
    "    \n",
    "    prior = pdf(muPrior, mu)\n",
    "    priorStar = pdf(muPrior, muStar)\n",
    "    \n",
    "    dll = dllTerm1 + dllTerm2 - dllTerm3 + prior - priorStar\n",
    "    dll\n",
    "end"
   ]
  },
  {
   "cell_type": "code",
   "execution_count": 7,
   "metadata": {
    "collapsed": false
   },
   "outputs": [
    {
     "data": {
      "text/plain": [
       "95.49074474191153"
      ]
     },
     "execution_count": 7,
     "metadata": {},
     "output_type": "execute_result"
    }
   ],
   "source": [
    "llRatio_mu(u, 0.01, th, s, t, dst, tl)"
   ]
  },
  {
   "cell_type": "markdown",
   "metadata": {},
   "source": [
    "## $\\sigma$ log-likelihood Ratio"
   ]
  },
  {
   "cell_type": "markdown",
   "metadata": {},
   "source": [
    "* check the  $\\le$ for Tlast in paper\n",
    "* check the sign on the priors"
   ]
  },
  {
   "cell_type": "code",
   "execution_count": 112,
   "metadata": {
    "collapsed": false
   },
   "outputs": [
    {
     "name": "stderr",
     "output_type": "stream",
     "text": [
      "WARNING: Method definition getSumLessT_sigma(Any, Any, Any, Any, Any, Any) in module Main at In[110]:2 overwritten at In[112]:2.\n",
      "WARNING: Method definition getSumLessT_sigma(Any, Any, Any, Any, Any, Any, Any) in module Main at In[110]:2 overwritten at In[112]:2.\n"
     ]
    },
    {
     "data": {
      "text/plain": [
       "getSumLessT_sigma (generic function with 2 methods)"
      ]
     },
     "execution_count": 112,
     "metadata": {},
     "output_type": "execute_result"
    }
   ],
   "source": [
    "function getSumLessT_sigma(sigma, sigmaStar, mu, tau, theta, dst, Tlast=30.)\n",
    "    tauLessTIndex = find(x -> x<=Tlast, tau) \n",
    "    gaussian = Normal(mu, sigma)\n",
    "    gaussianStar = Normal(mu, sigmaStar)\n",
    "    \n",
    "    sumLessT = 0\n",
    "    for i = tauLessTIndex\n",
    "        sum_ij = 0\n",
    "        tauJLessTauIIndex = find(x-> x<=tau[i], tau)\n",
    "        for j=tauJLessTauIIndex\n",
    "            sum_ij = sum_ij + (tau[i] - tau[j])*(\n",
    "                pdf(gaussian, dst[i,j]) - pdf(gaussianStar, dst[i,j])) #check signs\n",
    "        end\n",
    "        sumLessT = sumLessT + theta*sum_ij\n",
    "    end\n",
    "    #sum_ij\n",
    "end"
   ]
  },
  {
   "cell_type": "code",
   "execution_count": 113,
   "metadata": {
    "collapsed": false
   },
   "outputs": [
    {
     "name": "stdout",
     "output_type": "stream",
     "text": [
      "sum_ij = 0.0\n",
      "sum_ij = 0.015956310550613827\n",
      "sum_ij = 0.047860586288295794\n",
      "sumLessT = 0.38288469030636635\n",
      "sum_ij = 0.0\n",
      "sum_ij = 0.015956310550613827\n",
      "sumLessT = 0.510535174711277\n",
      "sum_ij = 0.0\n",
      "sumLessT = 0.510535174711277\n"
     ]
    }
   ],
   "source": [
    "getSumLessT_sigma(s, 100., u, t, th, dst, tl)"
   ]
  },
  {
   "cell_type": "code",
   "execution_count": null,
   "metadata": {
    "collapsed": true
   },
   "outputs": [],
   "source": [
    "function llRatio_sigma(sigma, sigmaStar, mu, tau, theta, dst, Tlast=30,\n",
    "        sigma_a=0.5, sigma_b=100)\n",
    "    \n",
    "    dllTerm1 = getSumLessT_sigma(sigma, sigmaStar, mu, tau, theta, dst)\n",
    "    \n",
    "    dllTerm2 = getSumGreaterT_sigma(sigma, sigmaStar, mu, tau, theta, dst)\n",
    "    \n",
    "    dllTerm3 = getLogLambda(tau, theta, mu, sigmaStar, dst, Tlast) -\n",
    "        getLogLambda(tau, theta, mu, sigma, dst, Tlast)\n",
    "    \n",
    "    priorStar = dgamma(sigmaStar, shape=sigma_a, rate=sigma_b)\n",
    "    prior = dgamma(sigma, shape=sigma_a, rate=sigma_b)\n",
    "    \n",
    "    dll = dllTerm1 + dllTerm2 + dllTerm3 + priorStar - prior\n",
    "    \n",
    "    dll\n",
    "end"
   ]
  }
 ],
 "metadata": {
  "kernelspec": {
   "display_name": "Julia 0.5.1",
   "language": "julia",
   "name": "julia-0.5"
  },
  "language_info": {
   "file_extension": ".jl",
   "mimetype": "application/julia",
   "name": "julia",
   "version": "0.5.1"
  }
 },
 "nbformat": 4,
 "nbformat_minor": 0
}
