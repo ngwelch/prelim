{
 "cells": [
  {
   "cell_type": "code",
   "execution_count": 421,
   "metadata": {
    "collapsed": false
   },
   "outputs": [],
   "source": [
    "using DataFrames;\n",
    "using Distributions;"
   ]
  },
  {
   "cell_type": "code",
   "execution_count": 422,
   "metadata": {
    "collapsed": false,
    "scrolled": true
   },
   "outputs": [],
   "source": [
    "df = readtable(\"/Users/nwelch/prelim/data/plantDataTest.csv\");\n",
    "dxixj = convert(Matrix, readtable(\"/Users/nwelch/prelim/data/dxixjTest.csv\"));"
   ]
  },
  {
   "cell_type": "code",
   "execution_count": 423,
   "metadata": {
    "collapsed": false
   },
   "outputs": [
    {
     "data": {
      "text/plain": [
       "5×5 Array{Float64,2}:\n",
       "  0.0    1.0   36.0   56.25  64.0 \n",
       "  1.0    0.0   25.0   42.25  49.0 \n",
       " 36.0   25.0    0.0    2.25   4.0 \n",
       " 56.25  42.25   2.25   0.0    0.25\n",
       " 64.0   49.0    4.0    0.25   0.0 "
      ]
     },
     "execution_count": 423,
     "metadata": {},
     "output_type": "execute_result"
    }
   ],
   "source": [
    "dxixj[1:5, 1:5].*dxixj[1:5, 1:5]"
   ]
  },
  {
   "cell_type": "markdown",
   "metadata": {},
   "source": [
    "# Open Issues: \n",
    "* Note that the last log sums in llRatio_tau have reversed signs than what is shown in the appendix. The Appendix appears to have the wrong sign. "
   ]
  },
  {
   "cell_type": "markdown",
   "metadata": {},
   "source": [
    "# Initial Parameter Values"
   ]
  },
  {
   "cell_type": "code",
   "execution_count": 424,
   "metadata": {
    "collapsed": false
   },
   "outputs": [],
   "source": [
    "#priors\n",
    "mu_a=0.7; mu_b=0.004;\n",
    "theta_a=0.8; theta_b=10;\n",
    "sigma_a=0.5; sigma_b=1;\n",
    "\n",
    "# initial/test values\n",
    "u = 175\n",
    "th = 1;\n",
    "s = 10;\n",
    "t = [2., 10., 14., 20.];\n",
    "tl = 15.;"
   ]
  },
  {
   "cell_type": "markdown",
   "metadata": {},
   "source": [
    "# Function Definitions"
   ]
  },
  {
   "cell_type": "code",
   "execution_count": 425,
   "metadata": {
    "collapsed": false
   },
   "outputs": [
    {
     "name": "stderr",
     "output_type": "stream",
     "text": [
      "WARNING: Method definition getThetafxixj(Any, Any, Any) in module Main at In[156]:2 overwritten at In[425]:2.\n"
     ]
    },
    {
     "data": {
      "text/plain": [
       "getThetafxixj (generic function with 1 method)"
      ]
     },
     "execution_count": 425,
     "metadata": {},
     "output_type": "execute_result"
    }
   ],
   "source": [
    "function getThetafxixj(theta, sigma, dxixj)\n",
    "    dstSq = dxixj.*dxixj\n",
    "    twoSigmaSq = 2*(sigma^2)\n",
    "    thetafxixj = (theta/(twoSigmaSq*pi))*exp(-dstSq/twoSigmaSq)\n",
    "    thetafxixj\n",
    "end"
   ]
  },
  {
   "cell_type": "code",
   "execution_count": 426,
   "metadata": {
    "collapsed": false
   },
   "outputs": [
    {
     "data": {
      "text/plain": [
       "165×165 Array{Float64,2}:\n",
       " 0.00159155   0.00158361   0.00132937  …  0.000700093  0.00061783 \n",
       " 0.00158361   0.00159155   0.00140454     0.000785416  0.000700093\n",
       " 0.00132937   0.00140454   0.00159155     0.00120136   0.00112576 \n",
       " 0.00120136   0.00128847   0.00157374     0.0012998    0.00123641 \n",
       " 0.0011557    0.00124571   0.00156003     0.00132771   0.00126929 \n",
       " 0.00106153   0.0011557    0.00152152  …  0.00137501   0.00132771 \n",
       " 0.00101355   0.001109     0.00149699     0.00139404   0.00135284 \n",
       " 0.000869104  0.000965324  0.00140454     0.00143112   0.00140981 \n",
       " 0.000821567  0.000917097  0.00136815     0.0014365    0.0014222  \n",
       " 0.000728664  0.000821567  0.00128847     0.0014365    0.0014365  \n",
       " 0.000683662  0.00077469   0.00124571  …  0.00143112   0.00143829 \n",
       " 0.00152533   0.00148025   0.00109659     0.000531771  0.0004577  \n",
       " 0.00155614   0.00152533   0.00118792     0.000611682  0.000531771\n",
       " ⋮                                     ⋱                          \n",
       " 0.000954524  0.00104965   0.00145275     0.00149139   0.00145457 \n",
       " 0.000906838  0.00100221   0.0014222      0.0015045    0.00147471 \n",
       " 0.0015045    0.00147471   0.0011485   …  0.000632679  0.000550025\n",
       " 0.00143112   0.00147471   0.00147471     0.00109659   0.00100221 \n",
       " 0.00110485   0.0011909    0.00149139     0.00145275   0.00138882 \n",
       " 0.000876742  0.00096895   0.00137501     0.00155614   0.00152533 \n",
       " 0.00120136   0.00126929   0.00143829     0.00132937   0.00124571 \n",
       " 0.00112576   0.00120136   0.00143112  …  0.00140454   0.00132937 \n",
       " 0.000959309  0.00104442   0.00137501     0.00152152   0.00146919 \n",
       " 0.000785416  0.00087237   0.00126929     0.00158361   0.00156003 \n",
       " 0.000700093  0.000785416  0.00120136     0.00159155   0.00158361 \n",
       " 0.00061783   0.000700093  0.00112576     0.00158361   0.00159155 "
      ]
     },
     "execution_count": 426,
     "metadata": {},
     "output_type": "execute_result"
    }
   ],
   "source": [
    "thetafxixj = getThetafxixj(th, s, dxixj)"
   ]
  },
  {
   "cell_type": "markdown",
   "metadata": {},
   "source": [
    "## log  Lambda"
   ]
  },
  {
   "cell_type": "markdown",
   "metadata": {},
   "source": [
    "**Scrubbed and equivalent to R-unit test results.**"
   ]
  },
  {
   "cell_type": "code",
   "execution_count": 74,
   "metadata": {
    "collapsed": false
   },
   "outputs": [
    {
     "name": "stderr",
     "output_type": "stream",
     "text": [
      "WARNING: Method definition getLogLambda(Any, Any, Any) in module Main at In[64]:2 overwritten at In[74]:2.\n",
      "WARNING: Method definition getLogLambda(Any, Any, Any, Any) in module Main at In[64]:2 overwritten at In[74]:2.\n"
     ]
    },
    {
     "data": {
      "text/plain": [
       "getLogLambda (generic function with 4 methods)"
      ]
     },
     "execution_count": 74,
     "metadata": {},
     "output_type": "execute_result"
    }
   ],
   "source": [
    "function getLogLambda(tau, mu, thetafxixj, Tlast=30.)\n",
    "    tauLessTIndex = find(x-> x<=Tlast, tau)\n",
    "\n",
    "    sumLog = 0\n",
    "    for i = tauLessTIndex\n",
    "        sumTauJLessTauI = 0\n",
    "        tauJLessTauIIndex = find(x-> x < tau[i], tau)\n",
    "        for j = tauJLessTauIIndex\n",
    "            sumTauJLessTauI = sumTauJLessTauI + thetafxixj[i,j]\n",
    "        end\n",
    "        sumLog = sumLog + log(mu + sumTauJLessTauI)\n",
    "    end\n",
    "    sumLog\n",
    "end"
   ]
  },
  {
   "cell_type": "code",
   "execution_count": 94,
   "metadata": {
    "collapsed": false
   },
   "outputs": [
    {
     "data": {
      "text/plain": [
       "15.49438230307215"
      ]
     },
     "execution_count": 94,
     "metadata": {},
     "output_type": "execute_result"
    }
   ],
   "source": [
    "getLogLambda(t, u, thetafxixj, tl)"
   ]
  },
  {
   "cell_type": "markdown",
   "metadata": {},
   "source": [
    "## $\\mu$ log-likelihood Ratio"
   ]
  },
  {
   "cell_type": "markdown",
   "metadata": {},
   "source": [
    "**Scrubbed and equivalent to R-unit test results.**"
   ]
  },
  {
   "cell_type": "code",
   "execution_count": 211,
   "metadata": {
    "collapsed": false
   },
   "outputs": [
    {
     "name": "stderr",
     "output_type": "stream",
     "text": [
      "WARNING: Method definition llRatio_mu(Any, Any, Any, Any) in module Main at In[196]:3 overwritten at In[211]:3.\n",
      "WARNING: Method definition #llRatio_mu(Array{Any, 1}, Main.#llRatio_mu, Any, Any, Any, Any) in module Main overwritten.\n"
     ]
    },
    {
     "data": {
      "text/plain": [
       "llRatio_mu (generic function with 2 methods)"
      ]
     },
     "execution_count": 211,
     "metadata": {},
     "output_type": "execute_result"
    }
   ],
   "source": [
    "function llRatio_mu(mu, muStar, tau, thetafxixj; \n",
    "                        Tlast=30.0, mu_shape=0.7, mu_rate=0.004)\n",
    "    muPrior = Gamma(mu_shape, 1./mu_rate)\n",
    "\n",
    "    tauLessTIndex = find(x-> x<=Tlast, tau)\n",
    "    tauGreaterT = count(x-> x>Tlast, tau)\n",
    "\n",
    "    dmu = mu - muStar\n",
    "\n",
    "    dllTerm1 = sum(tau[tauLessTIndex]*dmu)\n",
    "    dllTerm2 = tauGreaterT * Tlast * dmu\n",
    "\n",
    "    dllTerm3a = getLogLambda(tau, muStar, thetafxixj, Tlast)\n",
    "    dllTerm3b = getLogLambda(tau, mu, thetafxixj, Tlast)\n",
    "    dllTerm3 = dllTerm3a - dllTerm3b\n",
    "\n",
    "    logPriorStar = log(pdf(muPrior, muStar))\n",
    "    logPrior = log(pdf(muPrior, mu))\n",
    "\n",
    "    dll = dllTerm1 + dllTerm2 + dllTerm3 + logPriorStar - logPrior\n",
    "    dll\n",
    "end"
   ]
  },
  {
   "cell_type": "code",
   "execution_count": 290,
   "metadata": {
    "collapsed": false
   },
   "outputs": [
    {
     "data": {
      "text/plain": [
       "7146.889132721996"
      ]
     },
     "execution_count": 290,
     "metadata": {},
     "output_type": "execute_result"
    }
   ],
   "source": [
    "llRatio_mu(u, 0.0028, t, thetafxixj, Tlast=tl)"
   ]
  },
  {
   "cell_type": "markdown",
   "metadata": {},
   "source": [
    "R Value: -0.9685811338229993"
   ]
  },
  {
   "cell_type": "markdown",
   "metadata": {},
   "source": [
    "## $\\sigma$ log-likelihood Ratio"
   ]
  },
  {
   "cell_type": "markdown",
   "metadata": {},
   "source": [
    "**Scrubbed and equivalent to R-unit test results.**"
   ]
  },
  {
   "cell_type": "code",
   "execution_count": 299,
   "metadata": {
    "collapsed": true
   },
   "outputs": [],
   "source": [
    "sStar=0.5;\n",
    "thetafxixjStar = getThetafxixj(th, sStar, dxixj);\n",
    "dthetafxixj = thetafxixjStar-thetafxixj;"
   ]
  },
  {
   "cell_type": "code",
   "execution_count": 300,
   "metadata": {
    "collapsed": false
   },
   "outputs": [
    {
     "name": "stderr",
     "output_type": "stream",
     "text": [
      "WARNING: Method definition getSumLessT_sigma(Any, Any, Any) in module Main at In[292]:2 overwritten at In[300]:2.\n",
      "WARNING: Method definition getSumLessT_sigma(Any, Any, Any, Any) in module Main at In[292]:2 overwritten at In[300]:2.\n"
     ]
    },
    {
     "data": {
      "text/plain": [
       "getSumLessT_sigma (generic function with 2 methods)"
      ]
     },
     "execution_count": 300,
     "metadata": {},
     "output_type": "execute_result"
    }
   ],
   "source": [
    "function getSumLessT_sigma(dthetafxixj, mu, tau, Tlast=30.0)\n",
    "    tauLessTIndex = find(x -> x<=Tlast, tau)\n",
    "\n",
    "    sumLessT = 0\n",
    "    for i = tauLessTIndex\n",
    "        sum_ij = 0\n",
    "        tauJLessTauIIndex = find(x-> x<tau[i], tau)\n",
    "        for j=tauJLessTauIIndex\n",
    "            #reversing i & j to make overall term positive\n",
    "            tmp = (tau[j] - tau[i])*dthetafxixj[i,j]\n",
    "            sum_ij = sum_ij + tmp\n",
    "        end\n",
    "        sumLessT = sumLessT + sum_ij\n",
    "    end\n",
    "    sumLessT\n",
    "end"
   ]
  },
  {
   "cell_type": "code",
   "execution_count": 301,
   "metadata": {
    "collapsed": false
   },
   "outputs": [
    {
     "data": {
      "text/plain": [
       "-0.022907866738683627"
      ]
     },
     "execution_count": 301,
     "metadata": {},
     "output_type": "execute_result"
    }
   ],
   "source": [
    "getSumLessT_sigma(dthetafxixj, u, t, tl)"
   ]
  },
  {
   "cell_type": "markdown",
   "metadata": {},
   "source": [
    "R Value: -37.07198157467801"
   ]
  },
  {
   "cell_type": "code",
   "execution_count": 302,
   "metadata": {
    "collapsed": false
   },
   "outputs": [
    {
     "name": "stderr",
     "output_type": "stream",
     "text": [
      "WARNING: Method definition getSumGreaterT_sigma(Any, Any, Any) in module Main at In[294]:3 overwritten at In[302]:3.\n",
      "WARNING: Method definition getSumGreaterT_sigma(Any, Any, Any, Any) in module Main at In[294]:3 overwritten at In[302]:3.\n"
     ]
    },
    {
     "data": {
      "text/plain": [
       "getSumGreaterT_sigma (generic function with 2 methods)"
      ]
     },
     "execution_count": 302,
     "metadata": {},
     "output_type": "execute_result"
    }
   ],
   "source": [
    "function getSumGreaterT_sigma(dthetafxixj, mu, tau, Tlast=30.)\n",
    "\n",
    "    tauGreaterTIndex = find(x -> x>Tlast, tau)\n",
    "\n",
    "    sumGreaterT = 0\n",
    "    for i=tauGreaterTIndex\n",
    "        sum_ij = 0\n",
    "        tauJLessTauIIndex = find(x-> x<tau[i], tau)\n",
    "        for j=tauJLessTauIIndex\n",
    "            #reversing j & T to make overall term positive\n",
    "            sum_ij = sum_ij +\n",
    "                (tau[j]-Tlast)*dthetafxixj[i,j]\n",
    "        end\n",
    "        sumGreaterT = sumGreaterT + sum_ij\n",
    "    end\n",
    "    sumGreaterT\n",
    "end"
   ]
  },
  {
   "cell_type": "code",
   "execution_count": 303,
   "metadata": {
    "collapsed": false
   },
   "outputs": [
    {
     "data": {
      "text/plain": [
       "-0.06230889750745333"
      ]
     },
     "execution_count": 303,
     "metadata": {},
     "output_type": "execute_result"
    }
   ],
   "source": [
    "getSumGreaterT_sigma(dthetafxixj, u, t, tl)"
   ]
  },
  {
   "cell_type": "markdown",
   "metadata": {},
   "source": [
    "R Value: 0.12761710295072787"
   ]
  },
  {
   "cell_type": "code",
   "execution_count": 304,
   "metadata": {
    "collapsed": false
   },
   "outputs": [
    {
     "name": "stderr",
     "output_type": "stream",
     "text": [
      "WARNING: Method definition llRatio_sigma(Any, Any, Any, Any, Any) in module Main at In[296]:4 overwritten at In[304]:4.\n",
      "WARNING: Method definition #llRatio_sigma(Array{Any, 1}, Main.#llRatio_sigma, Any, Any, Any, Any, Any) in module Main overwritten.\n"
     ]
    },
    {
     "data": {
      "text/plain": [
       "llRatio_sigma (generic function with 2 methods)"
      ]
     },
     "execution_count": 304,
     "metadata": {},
     "output_type": "execute_result"
    }
   ],
   "source": [
    "function llRatio_sigma(sigma, sigmaStar, thetafxixj, \n",
    "        mu, tau; Tlast=30.0, sigma_shape=0.5, sigma_scale=100.)\n",
    "    \n",
    "    thetafxixjStar = getThetafxixj(th, sStar, dxixj);\n",
    "    dthetafxixj = thetafxixjStar - thetafxixj\n",
    "    sigmaPrior = Gamma(sigma_shape, sigma_scale)\n",
    "\n",
    "    dllTerm1 = getSumLessT_sigma(dthetafxixj, mu, tau, Tlast)\n",
    "\n",
    "    dllTerm2 = getSumGreaterT_sigma(dthetafxixj, mu, tau, Tlast)\n",
    "\n",
    "    dllTerm3 = getLogLambda(tau, mu, thetafxixjStar, Tlast) -\n",
    "        getLogLambda(tau, mu, thetafxixj, Tlast)\n",
    "\n",
    "    logPriorStar = log(pdf(sigmaPrior, sigmaStar))\n",
    "    logPrior = log(pdf(sigmaPrior, sigma))\n",
    "\n",
    "    dll = dllTerm1 + dllTerm2 + dllTerm3 + logPriorStar - logPrior\n",
    "\n",
    "    dll\n",
    "end"
   ]
  },
  {
   "cell_type": "code",
   "execution_count": 305,
   "metadata": {
    "collapsed": false
   },
   "outputs": [
    {
     "data": {
      "text/plain": [
       "1.5076654030232408"
      ]
     },
     "execution_count": 305,
     "metadata": {},
     "output_type": "execute_result"
    }
   ],
   "source": [
    "llRatio_sigma(s, sStar, thetafxixj, u, t, Tlast=tl)"
   ]
  },
  {
   "cell_type": "markdown",
   "metadata": {},
   "source": [
    "R Value: -29.676456732636904 (*before log(prior) correction*)"
   ]
  },
  {
   "cell_type": "markdown",
   "metadata": {},
   "source": [
    "# $\\theta$ log-likelihood Ratio"
   ]
  },
  {
   "cell_type": "markdown",
   "metadata": {},
   "source": [
    "**Scrubbed and equivalent to R-unit test results.**"
   ]
  },
  {
   "cell_type": "code",
   "execution_count": 331,
   "metadata": {
    "collapsed": false
   },
   "outputs": [],
   "source": [
    "thStar = 0.5;\n",
    "thetafxixj = getThetafxixj(th, s, dxixj);\n",
    "thetafxixjStar = getThetafxixj(thStar, s, dxixj);\n",
    "dthetafxixj = thetafxixj - thetafxixjStar;"
   ]
  },
  {
   "cell_type": "code",
   "execution_count": 332,
   "metadata": {
    "collapsed": false
   },
   "outputs": [
    {
     "data": {
      "text/plain": [
       "getSumLessT_theta (generic function with 4 methods)"
      ]
     },
     "execution_count": 332,
     "metadata": {},
     "output_type": "execute_result"
    }
   ],
   "source": [
    "function getSumLessT_theta(theta, thetaStar, \n",
    "        thetafxixj, thetafxixjStar, dthetafxixj,\n",
    "        mu, tau, sigma, dxixj, Tlast=30.0)\n",
    "    \n",
    "    tauLessTIndex = find(x -> x<=Tlast, tau)\n",
    "\n",
    "    sumLessT = 0\n",
    "    for i = tauLessTIndex\n",
    "        sum_ij = 0\n",
    "        tauJLessTauIIndex = find(x-> x<tau[i], tau)\n",
    "        for j = tauJLessTauIIndex\n",
    "            sum_ij = sum_ij +\n",
    "                (tau[i] - tau[j])*dthetafxixj[i,j]\n",
    "        end\n",
    "        sumLessT = sumLessT + sum_ij\n",
    "    end\n",
    "    sumLessT\n",
    "end"
   ]
  },
  {
   "cell_type": "code",
   "execution_count": 336,
   "metadata": {
    "collapsed": false
   },
   "outputs": [
    {
     "data": {
      "text/plain": [
       "0.016834894020290453"
      ]
     },
     "execution_count": 336,
     "metadata": {},
     "output_type": "execute_result"
    }
   ],
   "source": [
    "getSumLessT_theta(th, 0.1, thetafxixj, thetafxixjStar, dthetafxixj, u, t, s, dxixj, tl)"
   ]
  },
  {
   "cell_type": "markdown",
   "metadata": {},
   "source": [
    "R Value: 0.893519762891437"
   ]
  },
  {
   "cell_type": "code",
   "execution_count": 334,
   "metadata": {
    "collapsed": false
   },
   "outputs": [
    {
     "data": {
      "text/plain": [
       "getSumGreaterT_theta (generic function with 4 methods)"
      ]
     },
     "execution_count": 334,
     "metadata": {},
     "output_type": "execute_result"
    }
   ],
   "source": [
    "function getSumGreaterT_theta(theta, thetaStar, \n",
    "        thetafxixj, thetafxixjStar, dthetafxixj,\n",
    "        mu, tau, sigma, dxixj, Tlast=30.0)\n",
    "    \n",
    "    tauGreaterTIndex = find(x -> x>Tlast, tau)\n",
    "\n",
    "    sumGreaterT = 0\n",
    "    for i=tauGreaterTIndex\n",
    "        sum_ij = 0\n",
    "        tauJLessTauIIndex = find(x-> x<tau[i], tau)\n",
    "        for j=tauJLessTauIIndex\n",
    "            sum_ij = sum_ij + (Tlast - tau[j])*dthetafxixj[i,j]\n",
    "        end\n",
    "        sumGreaterT = sumGreaterT + sum_ij\n",
    "    end\n",
    "    sumGreaterT\n",
    "end"
   ]
  },
  {
   "cell_type": "code",
   "execution_count": 337,
   "metadata": {
    "collapsed": false
   },
   "outputs": [
    {
     "data": {
      "text/plain": [
       "0.011924109849970606"
      ]
     },
     "execution_count": 337,
     "metadata": {},
     "output_type": "execute_result"
    }
   ],
   "source": [
    "getSumGreaterT_theta(th, 0.1, thetafxixj, thetafxixjStar, dthetafxixj, u, t, s, dxixj, tl)"
   ]
  },
  {
   "cell_type": "markdown",
   "metadata": {},
   "source": [
    "R Value: 0.2233632497737195"
   ]
  },
  {
   "cell_type": "code",
   "execution_count": 361,
   "metadata": {
    "collapsed": false
   },
   "outputs": [
    {
     "name": "stderr",
     "output_type": "stream",
     "text": [
      "WARNING: Method definition llRatio_theta(Any, Any, Any, Any, Any, Any) in module Main at In[338]:4 overwritten at In[361]:4.\n",
      "WARNING: Method definition #llRatio_theta(Array{Any, 1}, Main.#llRatio_theta, Any, Any, Any, Any, Any, Any) in module Main overwritten.\n"
     ]
    },
    {
     "data": {
      "text/plain": [
       "llRatio_theta (generic function with 1 method)"
      ]
     },
     "execution_count": 361,
     "metadata": {},
     "output_type": "execute_result"
    }
   ],
   "source": [
    "function llRatio_theta(theta, thetaStar, mu, tau, sigma, dxixj; \n",
    "                         Tlast=30.0, theta_shape=0.8, theta_rate=10.0)\n",
    "\n",
    "    thetafxixj = getThetafxixj(theta, sigma, dxixj)\n",
    "    thetafxixjStar = getThetafxixj(thetaStar, sigma, dxixj)\n",
    "    dthetafxixj = thetafxixj - thetafxixjStar\n",
    "    \n",
    "    thetaPrior = Gamma(theta_shape, 1./theta_rate)\n",
    "    \n",
    "    dllTerm1 = getSumLessT_theta(theta, thetaStar, \n",
    "        thetafxixj, thetafxixjStar, dthetafxixj, \n",
    "        mu, tau, sigma, dxixj, Tlast)\n",
    "\n",
    "    dllTerm2 = getSumGreaterT_theta(theta, thetaStar, \n",
    "        thetafxixj, thetafxixjStar, dthetafxixj, \n",
    "        mu, tau, sigma, dxixj, Tlast)\n",
    "\n",
    "    dllTerm3 = getLogLambda(tau, mu, thetafxixjStar, Tlast) -\n",
    "                    getLogLambda(tau, mu, thetafxixj, Tlast)\n",
    "\n",
    "    logPriorStar = log(pdf(thetaPrior, thetaStar))\n",
    "    logPrior = log(pdf(thetaPrior, theta))\n",
    "\n",
    "    dll = dllTerm1 + dllTerm2 + dllTerm3 + logPriorStar - logPrior\n",
    "    dll\n",
    "end"
   ]
  },
  {
   "cell_type": "code",
   "execution_count": 380,
   "metadata": {
    "collapsed": false
   },
   "outputs": [
    {
     "data": {
      "text/plain": [
       "10.846937607399619"
      ]
     },
     "execution_count": 380,
     "metadata": {},
     "output_type": "execute_result"
    }
   ],
   "source": [
    "llRatio_theta(th, 0.01, u, t, s, dxixj, Tlast=10)"
   ]
  },
  {
   "cell_type": "markdown",
   "metadata": {},
   "source": [
    "R Value: -1.7516207513257855"
   ]
  },
  {
   "cell_type": "markdown",
   "metadata": {},
   "source": [
    "# $\\tau$ log-likelihood Ratio"
   ]
  },
  {
   "cell_type": "markdown",
   "metadata": {},
   "source": [
    "**Scrubbed and equivalent to R-unit test results.**"
   ]
  },
  {
   "cell_type": "code",
   "execution_count": 384,
   "metadata": {
    "collapsed": false
   },
   "outputs": [
    {
     "data": {
      "text/plain": [
       "getMinSum (generic function with 2 methods)"
      ]
     },
     "execution_count": 384,
     "metadata": {},
     "output_type": "execute_result"
    }
   ],
   "source": [
    "function getMinSum(iStar, tauiStar, tau, thetafxixj)\n",
    "    ti = tau[iStar]\n",
    "    minTau = min(tauiStar, ti)\n",
    "\n",
    "    jLessMin = find(x -> x<minTau, tau)\n",
    "    minSum = 0\n",
    "    for j = jLessMin\n",
    "        minSum = minSum + thetafxixj[iStar,j]\n",
    "    end\n",
    "    minSum = (ti - tauiStar)*minSum\n",
    "    minSum\n",
    "end"
   ]
  },
  {
   "cell_type": "code",
   "execution_count": 385,
   "metadata": {
    "collapsed": false
   },
   "outputs": [
    {
     "data": {
      "text/plain": [
       "-0.0020571749568161143"
      ]
     },
     "execution_count": 385,
     "metadata": {},
     "output_type": "execute_result"
    }
   ],
   "source": [
    "getMinSum(1, t[1]+0.5, t, thetafxixj)"
   ]
  },
  {
   "cell_type": "markdown",
   "metadata": {},
   "source": [
    "R Value: -0.06382284020653121"
   ]
  },
  {
   "cell_type": "code",
   "execution_count": 386,
   "metadata": {
    "collapsed": false
   },
   "outputs": [
    {
     "data": {
      "text/plain": [
       "getMaxSum (generic function with 1 method)"
      ]
     },
     "execution_count": 386,
     "metadata": {},
     "output_type": "execute_result"
    }
   ],
   "source": [
    "function getMaxSum(iStar, tauiStar, tau, thetafxixj)\n",
    "    ti = tau[iStar]\n",
    "    maxTau = max(tauiStar, ti)\n",
    "\n",
    "    jGreaterMax = find(x -> x>maxTau, tau)\n",
    "    maxSum = 0\n",
    "    for j = jGreaterMax\n",
    "        maxSum = maxSum + thetafxixj[iStar,j]\n",
    "    end\n",
    "    maxSum = (tauiStar - ti)*maxSum\n",
    "    maxSum\n",
    "end"
   ]
  },
  {
   "cell_type": "code",
   "execution_count": 387,
   "metadata": {
    "collapsed": false
   },
   "outputs": [
    {
     "data": {
      "text/plain": [
       "-0.0007918057725081853"
      ]
     },
     "execution_count": 387,
     "metadata": {},
     "output_type": "execute_result"
    }
   ],
   "source": [
    "getMaxSum(2, t[2]-0.5, t, thetafxixj)"
   ]
  },
  {
   "cell_type": "markdown",
   "metadata": {},
   "source": [
    "R Value: -0.031913804524571286"
   ]
  },
  {
   "cell_type": "code",
   "execution_count": 389,
   "metadata": {
    "collapsed": false
   },
   "outputs": [
    {
     "data": {
      "text/plain": [
       "getSumIntervalBelowTauStar (generic function with 1 method)"
      ]
     },
     "execution_count": 389,
     "metadata": {},
     "output_type": "execute_result"
    }
   ],
   "source": [
    "function getSumIntervalBelowTauStar(iStar, tauiStar, tau, thetafxixj)\n",
    "\n",
    "    ti = tau[iStar]\n",
    "\n",
    "    jInBetween = find(x -> ((x>ti) & (x<tauiStar)), tau)\n",
    "    sumBelow = 0\n",
    "    for j = jInBetween\n",
    "        sumBelow = sumBelow + (2*tau[j] - ti - tauiStar)*thetafxixj[iStar,j]\n",
    "    end\n",
    "  sumBelow\n",
    "end"
   ]
  },
  {
   "cell_type": "code",
   "execution_count": 396,
   "metadata": {
    "collapsed": false
   },
   "outputs": [
    {
     "data": {
      "text/plain": [
       "0.007918057725081853"
      ]
     },
     "execution_count": 396,
     "metadata": {},
     "output_type": "execute_result"
    }
   ],
   "source": [
    "getSumIntervalBelowTauStar(2, 21., t, thetafxixj)"
   ]
  },
  {
   "cell_type": "markdown",
   "metadata": {},
   "source": [
    "R Value: 0.1914828271474277"
   ]
  },
  {
   "cell_type": "code",
   "execution_count": 397,
   "metadata": {
    "collapsed": false
   },
   "outputs": [
    {
     "data": {
      "text/plain": [
       "getSumIntervalAboveTauStar (generic function with 1 method)"
      ]
     },
     "execution_count": 397,
     "metadata": {},
     "output_type": "execute_result"
    }
   ],
   "source": [
    "function getSumIntervalAboveTauStar(iStar, tauiStar, tau, thetafxixj)\n",
    "    ti = tau[iStar]\n",
    "\n",
    "    jInBetween = find(x -> ((x>tauiStar) & (x<ti)), tau)\n",
    "    sumAbove = 0\n",
    "    for j = jInBetween\n",
    "            sumAbove = sumAbove + (ti + tauiStar - 2*tau[j])*thetafxixj[iStar,j]\n",
    "    end\n",
    "    sumAbove\n",
    "end"
   ]
  },
  {
   "cell_type": "code",
   "execution_count": 398,
   "metadata": {
    "collapsed": false
   },
   "outputs": [
    {
     "data": {
      "text/plain": [
       "0.01063499063708131"
      ]
     },
     "execution_count": 398,
     "metadata": {},
     "output_type": "execute_result"
    }
   ],
   "source": [
    "getSumIntervalAboveTauStar(1, 8., t, thetafxixj)"
   ]
  },
  {
   "cell_type": "markdown",
   "metadata": {},
   "source": [
    "R Value: 0.12765521809828514"
   ]
  },
  {
   "cell_type": "code",
   "execution_count": 409,
   "metadata": {
    "collapsed": false
   },
   "outputs": [
    {
     "name": "stderr",
     "output_type": "stream",
     "text": [
      "WARNING: Method definition llRatio_tau(Any, Any, Any, Any, Any, Any) in module Main at In[400]:3 overwritten at In[409]:3.\n",
      "WARNING: Method definition #llRatio_tau(Array{Any, 1}, Main.#llRatio_tau, Any, Any, Any, Any, Any, Any) in module Main overwritten.\n"
     ]
    },
    {
     "data": {
      "text/plain": [
       "llRatio_tau (generic function with 1 method)"
      ]
     },
     "execution_count": 409,
     "metadata": {},
     "output_type": "execute_result"
    }
   ],
   "source": [
    "function llRatio_tau(tau, tauiStar, iStar, mu, thetafxixj, lastLogLambda; Tlast=30.0)\n",
    "    \n",
    "    N = length(tau)\n",
    "\n",
    "    dllTerm1 = mu*(tau[iStar] - tauiStar)\n",
    "    dllTerm2 = getMinSum(iStar, tauiStar, tau, thetafxixj)\n",
    "    dllTerm3 = getMaxSum(iStar, tauiStar, tau, thetafxixj)\n",
    "    dllTerm4 = getSumIntervalBelowTauStar(iStar, tauiStar, tau, thetafxixj)\n",
    "    dllTerm5 = getSumIntervalAboveTauStar(iStar, tauiStar, tau, thetafxixj)\n",
    "\n",
    "    tauStar = copy(tau)\n",
    "    tauStar[iStar] = tauiStar\n",
    "    dllTerm6 = getLogLambda(tauStar, theta, mu, sigma, dst, Tlast) - lastLogLambda\n",
    "\n",
    "    dll = dllTerm1 + dllTerm2 + dllTerm3 + dllTerm4 + dllTerm5 + dllTerm6\n",
    "    dll\n",
    "end"
   ]
  },
  {
   "cell_type": "code",
   "execution_count": 420,
   "metadata": {
    "collapsed": false
   },
   "outputs": [
    {
     "data": {
      "text/plain": [
       "699.9835179289495"
      ]
     },
     "execution_count": 420,
     "metadata": {},
     "output_type": "execute_result"
    }
   ],
   "source": [
    "lll = getLogLambda(t, u, thetafxixj, tl)\n",
    "llRatio_tau(t, t[1]-4, 1, u, thetafxixj, lll, Tlast=tl)"
   ]
  },
  {
   "cell_type": "markdown",
   "metadata": {},
   "source": [
    "R Value: 0.06522284020653046"
   ]
  }
 ],
 "metadata": {
  "kernelspec": {
   "display_name": "Julia 0.5.1",
   "language": "julia",
   "name": "julia-0.5"
  },
  "language_info": {
   "file_extension": ".jl",
   "mimetype": "application/julia",
   "name": "julia",
   "version": "0.5.1"
  }
 },
 "nbformat": 4,
 "nbformat_minor": 0
}
