{
 "cells": [
  {
   "cell_type": "code",
   "execution_count": 4,
   "metadata": {
    "collapsed": false
   },
   "outputs": [],
   "source": [
    "using DataFrames;\n",
    "using Distributions;"
   ]
  },
  {
   "cell_type": "code",
   "execution_count": 54,
   "metadata": {
    "collapsed": false,
    "scrolled": true
   },
   "outputs": [],
   "source": [
    "df = readtable(\"/Users/nwelch/prelim/data/plantDataTest.csv\");\n",
    "dst = readtable(\"/Users/nwelch/prelim/data/plantDistanceTest.csv\");"
   ]
  },
  {
   "cell_type": "markdown",
   "metadata": {},
   "source": [
    "# Open Issues: \n",
    "* Note that the last log sums in llRatio_tau have reversed signs than what is shown in the appendix. The Appendix appears to have the wrong sign. "
   ]
  },
  {
   "cell_type": "markdown",
   "metadata": {},
   "source": [
    "# Initial Parameter Values"
   ]
  },
  {
   "cell_type": "code",
   "execution_count": 55,
   "metadata": {
    "collapsed": false
   },
   "outputs": [],
   "source": [
    "#priors\n",
    "mu_a=0.7; mu_b=0.004;\n",
    "theta_a=0.8; theta_b=10;\n",
    "sigma_a=0.5; sigma_b=100;\n",
    "\n",
    "# initial/test values\n",
    "u = mu_a*mu_b\n",
    "th = theta_a*theta_b;\n",
    "s = sigma_a*sigma_b;\n",
    "t = [14., 10., 6.];\n",
    "tl = maximum(t);"
   ]
  },
  {
   "cell_type": "markdown",
   "metadata": {},
   "source": [
    "# Function Definitions"
   ]
  },
  {
   "cell_type": "markdown",
   "metadata": {},
   "source": [
    "## log  Lambda"
   ]
  },
  {
   "cell_type": "markdown",
   "metadata": {},
   "source": [
    "**Scrubbed and equivalent to R-unit test results.**"
   ]
  },
  {
   "cell_type": "code",
   "execution_count": 56,
   "metadata": {
    "collapsed": false
   },
   "outputs": [
    {
     "name": "stderr",
     "output_type": "stream",
     "text": [
      "WARNING: Method definition getLogLambda(Any, Any, Any, Any, Any) in module Main at In[7]:2 overwritten at In[56]:2.\n",
      "WARNING: Method definition getLogLambda(Any, Any, Any, Any, Any, Any) in module Main at In[7]:2 overwritten at In[56]:2.\n"
     ]
    },
    {
     "data": {
      "text/plain": [
       "getLogLambda (generic function with 2 methods)"
      ]
     },
     "execution_count": 56,
     "metadata": {},
     "output_type": "execute_result"
    }
   ],
   "source": [
    "function getLogLambda(tau, theta, mu, sigma, dst, Tlast=30.)\n",
    "    tauLessTIndex = find(x-> x<=Tlast, tau)\n",
    "    gaussian = Normal(mu, sigma)\n",
    "\n",
    "    sumLog = 0\n",
    "    for i = tauLessTIndex\n",
    "        sumTauJLessTauI = 0\n",
    "        tauJLessTauIIndex = find(x-> x < tau[i], tau)\n",
    "        for j = tauJLessTauIIndex\n",
    "            sumTauJLessTauI = sumTauJLessTauI + pdf(gaussian, dst[i,j])\n",
    "        end\n",
    "        sumLog = sumLog + log(mu + theta*sumTauJLessTauI)\n",
    "    end\n",
    "    sumLog\n",
    "end"
   ]
  },
  {
   "cell_type": "code",
   "execution_count": 57,
   "metadata": {
    "collapsed": false
   },
   "outputs": [
    {
     "data": {
      "text/plain": [
       "-10.631796271049293"
      ]
     },
     "execution_count": 57,
     "metadata": {},
     "output_type": "execute_result"
    }
   ],
   "source": [
    "getLogLambda(t, th, u, s, dst, tl)"
   ]
  },
  {
   "cell_type": "markdown",
   "metadata": {},
   "source": [
    "R Value: -10.623570479769231"
   ]
  },
  {
   "cell_type": "markdown",
   "metadata": {},
   "source": [
    "## $\\mu$ log-likelihood Ratio"
   ]
  },
  {
   "cell_type": "markdown",
   "metadata": {},
   "source": [
    "**Scrubbed and equivalent to R-unit test results.**"
   ]
  },
  {
   "cell_type": "code",
   "execution_count": 9,
   "metadata": {
    "collapsed": false
   },
   "outputs": [
    {
     "data": {
      "text/plain": [
       "llRatio_mu (generic function with 1 method)"
      ]
     },
     "execution_count": 9,
     "metadata": {},
     "output_type": "execute_result"
    }
   ],
   "source": [
    "function llRatio_mu(mu, muStar, theta, sigma, tau, dst; \n",
    "                        Tlast=30.0, mu_a=0.7, mu_b=0.004)\n",
    "    muPrior = Gamma(mu_a, mu_b)\n",
    "\n",
    "    tauLessTIndex = find(x-> x<=Tlast, tau)\n",
    "    tauGreaterTIndex = find(x-> x>Tlast, tau)\n",
    "\n",
    "    dmu = mu - muStar\n",
    "\n",
    "    dllTerm1 = sum(tau[tauLessTIndex]*dmu)\n",
    "    dllTerm2 = length(tauGreaterTIndex) * Tlast * dmu\n",
    "\n",
    "    dllTerm3a = getLogLambda(tau, theta, muStar, sigma, dst, Tlast)\n",
    "    dllTerm3b = getLogLambda(tau, theta, mu, sigma, dst, Tlast)\n",
    "    dllTerm3 = dllTerm3a - dllTerm3b\n",
    "\n",
    "    logPriorStar = log(pdf(muPrior, muStar))\n",
    "    logPrior = log(pdf(muPrior, mu))\n",
    "\n",
    "    dll = dllTerm1 + dllTerm2 + dllTerm3 + logPriorStar - logPrior\n",
    "    dll\n",
    "end"
   ]
  },
  {
   "cell_type": "code",
   "execution_count": 58,
   "metadata": {
    "collapsed": false
   },
   "outputs": [
    {
     "data": {
      "text/plain": [
       "-0.967916877573046"
      ]
     },
     "execution_count": 58,
     "metadata": {},
     "output_type": "execute_result"
    }
   ],
   "source": [
    "llRatio_mu(u, 0.01, th, s, t, dst, Tlast=tl)"
   ]
  },
  {
   "cell_type": "markdown",
   "metadata": {},
   "source": [
    "R Value: -0.9685811338229993"
   ]
  },
  {
   "cell_type": "markdown",
   "metadata": {},
   "source": [
    "## $\\sigma$ log-likelihood Ratio"
   ]
  },
  {
   "cell_type": "markdown",
   "metadata": {},
   "source": [
    "**Scrubbed and equivalent to R-unit test results.**"
   ]
  },
  {
   "cell_type": "code",
   "execution_count": 12,
   "metadata": {
    "collapsed": false
   },
   "outputs": [
    {
     "data": {
      "text/plain": [
       "getSumLessT_sigma (generic function with 2 methods)"
      ]
     },
     "execution_count": 12,
     "metadata": {},
     "output_type": "execute_result"
    }
   ],
   "source": [
    "function getSumLessT_sigma(sigma, sigmaStar, gaussian_s, gaussianStar_s, mu,\n",
    "                                  tau, theta, dst, Tlast=30.0)\n",
    "    tauLessTIndex = find(x -> x<=Tlast, tau)\n",
    "\n",
    "    sumLessT = 0\n",
    "    for i = tauLessTIndex\n",
    "        sum_ij = 0\n",
    "        tauJLessTauIIndex = find(x-> x<tau[i], tau)\n",
    "        for j=tauJLessTauIIndex\n",
    "            tmp = (tau[i] - tau[j])*(pdf(gaussian_s, dst[i,j]) -\n",
    "                                   pdf(gaussianStar_s, dst[i,j]))\n",
    "            sum_ij = sum_ij + tmp\n",
    "        end\n",
    "        sumLessT = sumLessT + theta*sum_ij\n",
    "    end\n",
    "    sumLessT\n",
    "end"
   ]
  },
  {
   "cell_type": "code",
   "execution_count": 59,
   "metadata": {
    "collapsed": false
   },
   "outputs": [
    {
     "data": {
      "text/plain": [
       "-6.748482930483687"
      ]
     },
     "execution_count": 59,
     "metadata": {},
     "output_type": "execute_result"
    }
   ],
   "source": [
    "sStar = 1.0\n",
    "gaussian_s = Normal(u, s);\n",
    "gaussianStar_s = Normal(u, sStar);\n",
    "getSumLessT_sigma(s, sStar, gaussian_s, gaussianStar_s, u, t, th, dst, tl)"
   ]
  },
  {
   "cell_type": "markdown",
   "metadata": {},
   "source": [
    "R Value: -37.07198157467801"
   ]
  },
  {
   "cell_type": "code",
   "execution_count": 18,
   "metadata": {
    "collapsed": false
   },
   "outputs": [
    {
     "data": {
      "text/plain": [
       "getSumGreaterT_sigma (generic function with 2 methods)"
      ]
     },
     "execution_count": 18,
     "metadata": {},
     "output_type": "execute_result"
    }
   ],
   "source": [
    "function getSumGreaterT_sigma(sigma, sigmaStar, gaussian_s, gaussianStar_s,\n",
    "                                     mu, tau, theta, dst, Tlast=30.)\n",
    "\n",
    "    tauGreaterTIndex = find(x -> x>Tlast, tau)\n",
    "\n",
    "    sumGreaterT = 0\n",
    "    for i=tauGreaterTIndex\n",
    "        sum_ij = 0\n",
    "        tauJLessTauIIndex = find(x-> x<tau[i], tau)\n",
    "        for j=tauJLessTauIIndex\n",
    "            sum_ij = sum_ij +\n",
    "                (Tlast - tau[j])*(pdf(gaussian_s, dst[i,j]) -\n",
    "                                  pdf(gaussianStar_s, dst[i,j]))\n",
    "        end\n",
    "        sumGreaterT = sumGreaterT + theta*sum_ij\n",
    "    end\n",
    "    sumGreaterT\n",
    "end"
   ]
  },
  {
   "cell_type": "code",
   "execution_count": 60,
   "metadata": {
    "collapsed": false
   },
   "outputs": [
    {
     "data": {
      "text/plain": [
       "0.126060878919472"
      ]
     },
     "execution_count": 60,
     "metadata": {},
     "output_type": "execute_result"
    }
   ],
   "source": [
    "sStar = 100.\n",
    "gaussian_s = Normal(u, s);\n",
    "gaussianStar_s = Normal(u, sStar);\n",
    "getSumGreaterT_sigma(s, sStar, gaussian_s, gaussianStar_s, u, t, th, dst, 10.)"
   ]
  },
  {
   "cell_type": "markdown",
   "metadata": {},
   "source": [
    "R Value: 0.12761710295072787"
   ]
  },
  {
   "cell_type": "code",
   "execution_count": 20,
   "metadata": {
    "collapsed": false
   },
   "outputs": [
    {
     "data": {
      "text/plain": [
       "llRatio_sigma (generic function with 1 method)"
      ]
     },
     "execution_count": 20,
     "metadata": {},
     "output_type": "execute_result"
    }
   ],
   "source": [
    "function llRatio_sigma(sigma, sigmaStar, gaussian_s, gaussianStar_s,  mu,\n",
    "                              tau, theta, dst; \n",
    "                              Tlast=30.0, sigma_a=0.5, sigma_b=100.)\n",
    "\n",
    "    sigmaPrior = Gamma(sigma_a, sigma_b)\n",
    "\n",
    "    dllTerm1 = getSumLessT_sigma(sigma, sigmaStar, gaussian_s, gaussianStar_s,\n",
    "                                        mu, tau, theta, dst)\n",
    "\n",
    "    dllTerm2 = getSumGreaterT_sigma(sigma, sigmaStar, gaussian_s,\n",
    "                                           gaussianStar_s,\n",
    "                                           mu, tau, theta, dst)\n",
    "\n",
    "    dllTerm3 = getLogLambda(tau, theta, mu, sigmaStar, dst, Tlast) -\n",
    "        getLogLambda(tau, theta, mu, sigma, dst, Tlast)\n",
    "\n",
    "    logPriorStar = log(pdf(sigmaPrior, sigmaStar))\n",
    "    logPrior = log(pdf(sigmaPrior, sigma))\n",
    "\n",
    "    dll = dllTerm1 + dllTerm2 + dllTerm3 + logPriorStar - logPrior\n",
    "\n",
    "    dll\n",
    "end"
   ]
  },
  {
   "cell_type": "code",
   "execution_count": 61,
   "metadata": {
    "collapsed": false
   },
   "outputs": [
    {
     "data": {
      "text/plain": [
       "-4.757907999644139"
      ]
     },
     "execution_count": 61,
     "metadata": {},
     "output_type": "execute_result"
    }
   ],
   "source": [
    "sStar = 1.0\n",
    "gaussian_s = Normal(u, s);\n",
    "gaussianStar_s = Normal(u, sStar);\n",
    "llRatio_sigma(s, sStar, gaussian_s, gaussianStar_s, u, t, th, dst, Tlast=tl)"
   ]
  },
  {
   "cell_type": "markdown",
   "metadata": {},
   "source": [
    "R Value: -29.676456732636904 (*before log(prior) correction*)"
   ]
  },
  {
   "cell_type": "markdown",
   "metadata": {},
   "source": [
    "# $\\theta$ log-likelihood Ratio"
   ]
  },
  {
   "cell_type": "markdown",
   "metadata": {},
   "source": [
    "**Scrubbed and equivalent to R-unit test results.**"
   ]
  },
  {
   "cell_type": "code",
   "execution_count": 29,
   "metadata": {
    "collapsed": false
   },
   "outputs": [
    {
     "data": {
      "text/plain": [
       "Distributions.Normal{Float64}(μ=0.0028, σ=50.0)"
      ]
     },
     "execution_count": 29,
     "metadata": {},
     "output_type": "execute_result"
    }
   ],
   "source": [
    "gaussian_t = Normal(u, s)"
   ]
  },
  {
   "cell_type": "code",
   "execution_count": 26,
   "metadata": {
    "collapsed": false
   },
   "outputs": [
    {
     "data": {
      "text/plain": [
       "getSumLessT_theta (generic function with 2 methods)"
      ]
     },
     "execution_count": 26,
     "metadata": {},
     "output_type": "execute_result"
    }
   ],
   "source": [
    "function getSumLessT_theta(theta, thetaStar, mu, tau, sigma, gaussian_t, dst,\n",
    "                                  Tlast=30.0)\n",
    "\n",
    "    tauLessTIndex = find(x -> x<=Tlast, tau)\n",
    "\n",
    "    sumLessT = 0\n",
    "    for i = tauLessTIndex\n",
    "        sum_ij = 0\n",
    "        tauJLessTauIIndex = find(x-> x<tau[i], tau)\n",
    "        for j = tauJLessTauIIndex\n",
    "            sum_ij = sum_ij +\n",
    "                (tau[i] - tau[j])*pdf(gaussian_t, dst[i,j])\n",
    "        end\n",
    "        sumLessT = sumLessT + (theta - thetaStar)*sum_ij\n",
    "    end\n",
    "    sumLessT\n",
    "end"
   ]
  },
  {
   "cell_type": "code",
   "execution_count": 27,
   "metadata": {
    "collapsed": false
   },
   "outputs": [
    {
     "data": {
      "text/plain": [
       "0.893519762891437"
      ]
     },
     "execution_count": 27,
     "metadata": {},
     "output_type": "execute_result"
    }
   ],
   "source": [
    "getSumLessT_theta(th, 1., u, t, s, gaussian_t, dst, tl)"
   ]
  },
  {
   "cell_type": "markdown",
   "metadata": {},
   "source": [
    "R Value: 0.893519762891437"
   ]
  },
  {
   "cell_type": "code",
   "execution_count": 28,
   "metadata": {
    "collapsed": false
   },
   "outputs": [
    {
     "data": {
      "text/plain": [
       "getSumGreaterT_theta (generic function with 2 methods)"
      ]
     },
     "execution_count": 28,
     "metadata": {},
     "output_type": "execute_result"
    }
   ],
   "source": [
    "function getSumGreaterT_theta(theta, thetaStar, mu, tau, sigma, gaussian_t,\n",
    "                                     dst, Tlast=30.0)\n",
    "\n",
    "    tauGreaterTIndex = find(x -> x>Tlast, tau)\n",
    "\n",
    "    sumGreaterT = 0\n",
    "    for i=tauGreaterTIndex\n",
    "        sum_ij = 0\n",
    "        tauJLessTauIIndex = find(x-> x<tau[i], tau)\n",
    "        for j=tauJLessTauIIndex\n",
    "            sum_ij = sum_ij +\n",
    "                (Tlast - tau[j])*pdf(gaussian_t, dst[i,j])\n",
    "        end\n",
    "        sumGreaterT = sumGreaterT + (theta - thetaStar)*sum_ij\n",
    "    end\n",
    "    sumGreaterT\n",
    "end"
   ]
  },
  {
   "cell_type": "code",
   "execution_count": 30,
   "metadata": {
    "collapsed": false
   },
   "outputs": [
    {
     "data": {
      "text/plain": [
       "0.2233632497737195"
      ]
     },
     "execution_count": 30,
     "metadata": {},
     "output_type": "execute_result"
    }
   ],
   "source": [
    "getSumGreaterT_theta(th, 1., u, t, s, gaussian_t, dst, 10.)"
   ]
  },
  {
   "cell_type": "markdown",
   "metadata": {},
   "source": [
    "R Value: 0.2233632497737195"
   ]
  },
  {
   "cell_type": "code",
   "execution_count": 31,
   "metadata": {
    "collapsed": false
   },
   "outputs": [
    {
     "data": {
      "text/plain": [
       "llRatio_theta (generic function with 1 method)"
      ]
     },
     "execution_count": 31,
     "metadata": {},
     "output_type": "execute_result"
    }
   ],
   "source": [
    "function llRatio_theta(theta, thetaStar, mu, tau, sigma, gaussian_t, dst; \n",
    "                         Tlast=30.0, theta_a=0.8, theta_b=10.0)\n",
    "\n",
    "    thetaPrior = Gamma(theta_a, theta_b)\n",
    "    dllTerm1 = getSumLessT_theta(theta, thetaStar, mu, tau, sigma, gaussian_t, \n",
    "                                        dst, Tlast)\n",
    "\n",
    "    dllTerm2 = getSumGreaterT_theta(theta, thetaStar, mu, tau, sigma,\n",
    "                                           gaussian_t,  dst, Tlast)\n",
    "\n",
    "    dllTerm3 = getLogLambda(tau, thetaStar, mu, sigma, dst, Tlast) -\n",
    "                    getLogLambda(tau, theta, mu, sigma, dst, Tlast)\n",
    "\n",
    "    logPriorStar = log(pdf(thetaPrior, thetaStar))\n",
    "    logPrior = log(pdf(thetaPrior, theta))\n",
    "\n",
    "    dll = dllTerm1 + dllTerm2 + dllTerm3 + logPriorStar - logPrior\n",
    "    dll\n",
    "end"
   ]
  },
  {
   "cell_type": "code",
   "execution_count": 33,
   "metadata": {
    "collapsed": false
   },
   "outputs": [
    {
     "data": {
      "text/plain": [
       "-1.7516207513257855"
      ]
     },
     "execution_count": 33,
     "metadata": {},
     "output_type": "execute_result"
    }
   ],
   "source": [
    "llRatio_theta(th, 1., u, t, s, gaussian_t, dst, Tlast=tl)"
   ]
  },
  {
   "cell_type": "markdown",
   "metadata": {},
   "source": [
    "R Value: -1.7516207513257855"
   ]
  },
  {
   "cell_type": "markdown",
   "metadata": {},
   "source": [
    "# $\\tau$ log-likelihood Ratio"
   ]
  },
  {
   "cell_type": "markdown",
   "metadata": {},
   "source": [
    "**Scrubbed and equivalent to R-unit test results.**"
   ]
  },
  {
   "cell_type": "code",
   "execution_count": 53,
   "metadata": {
    "collapsed": false
   },
   "outputs": [
    {
     "data": {
      "text/plain": [
       "0x000012e2799d69be"
      ]
     },
     "execution_count": 53,
     "metadata": {},
     "output_type": "execute_result"
    }
   ],
   "source": [
    "time_ns()"
   ]
  },
  {
   "cell_type": "code",
   "execution_count": 35,
   "metadata": {
    "collapsed": false
   },
   "outputs": [
    {
     "data": {
      "text/plain": [
       "Distributions.Normal{Float64}(μ=0.0028, σ=50.0)"
      ]
     },
     "execution_count": 35,
     "metadata": {},
     "output_type": "execute_result"
    }
   ],
   "source": [
    "gaussian_tau = Normal(u, s)"
   ]
  },
  {
   "cell_type": "code",
   "execution_count": 36,
   "metadata": {
    "collapsed": false
   },
   "outputs": [
    {
     "data": {
      "text/plain": [
       "getMinSum (generic function with 1 method)"
      ]
     },
     "execution_count": 36,
     "metadata": {},
     "output_type": "execute_result"
    }
   ],
   "source": [
    "function getMinSum(iStar, tauiStar, mu, tau, theta, sigma, gaussian_tau, dst)\n",
    "    ti = tau[iStar]\n",
    "    minTau = min(tauiStar, ti)\n",
    "\n",
    "    jLessMin = find(x -> x<minTau, tau)\n",
    "    minSum = 0\n",
    "    for j = jLessMin\n",
    "        minSum = minSum + pdf(gaussian_tau, dst[iStar,j])\n",
    "    end\n",
    "    minSum = (ti - tauiStar)*theta*minSum\n",
    "    minSum\n",
    "end"
   ]
  },
  {
   "cell_type": "code",
   "execution_count": 37,
   "metadata": {
    "collapsed": false
   },
   "outputs": [
    {
     "data": {
      "text/plain": [
       "-0.06382284020653121"
      ]
     },
     "execution_count": 37,
     "metadata": {},
     "output_type": "execute_result"
    }
   ],
   "source": [
    "getMinSum(1, t[1]+0.5, u, t, th, s, gaussian_tau, dst)"
   ]
  },
  {
   "cell_type": "markdown",
   "metadata": {},
   "source": [
    "R Value: -0.06382284020653121"
   ]
  },
  {
   "cell_type": "code",
   "execution_count": 39,
   "metadata": {
    "collapsed": false
   },
   "outputs": [
    {
     "data": {
      "text/plain": [
       "getMaxSum (generic function with 1 method)"
      ]
     },
     "execution_count": 39,
     "metadata": {},
     "output_type": "execute_result"
    }
   ],
   "source": [
    "function getMaxSum(iStar, tauiStar, mu, tau, theta, sigma, gaussian_tau, dst)\n",
    "    ti = tau[iStar]\n",
    "    maxTau = max(tauiStar, ti)\n",
    "\n",
    "    jGreaterMax = find(x -> x>maxTau, tau)\n",
    "    maxSum = 0\n",
    "    for j = jGreaterMax\n",
    "        maxSum = maxSum + pdf(gaussian_tau, dst[iStar,j])\n",
    "    end\n",
    "    maxSum = (tauiStar - ti)*theta*maxSum\n",
    "    maxSum\n",
    "end"
   ]
  },
  {
   "cell_type": "code",
   "execution_count": 40,
   "metadata": {
    "collapsed": false
   },
   "outputs": [
    {
     "data": {
      "text/plain": [
       "-0.031913804524571286"
      ]
     },
     "execution_count": 40,
     "metadata": {},
     "output_type": "execute_result"
    }
   ],
   "source": [
    "getMaxSum(2, t[2]-0.5, u, t, th, s, gaussian_tau, dst)"
   ]
  },
  {
   "cell_type": "markdown",
   "metadata": {},
   "source": [
    "R Value: -0.031913804524571286"
   ]
  },
  {
   "cell_type": "code",
   "execution_count": 42,
   "metadata": {
    "collapsed": false
   },
   "outputs": [
    {
     "data": {
      "text/plain": [
       "getSumIntervalBelowTauStar (generic function with 1 method)"
      ]
     },
     "execution_count": 42,
     "metadata": {},
     "output_type": "execute_result"
    }
   ],
   "source": [
    "function getSumIntervalBelowTauStar(iStar, tauiStar, mu, tau, theta, sigma,\n",
    "                                           gaussian_tau, dst)\n",
    "\n",
    "    ti = tau[iStar]\n",
    "\n",
    "    jInBetween = find(x -> ((x>ti) & (x<tauiStar)), tau)\n",
    "    sumBelow = 0\n",
    "    for j = jInBetween\n",
    "        sumBelow = sumBelow +\n",
    "            (2*tau[j] - ti - tauiStar)*pdf(gaussian_tau, dst[iStar,j])\n",
    "    end\n",
    "  sumBelow = theta*sumBelow\n",
    "  sumBelow\n",
    "end"
   ]
  },
  {
   "cell_type": "code",
   "execution_count": 43,
   "metadata": {
    "collapsed": false
   },
   "outputs": [
    {
     "data": {
      "text/plain": [
       "0.1914828271474277"
      ]
     },
     "execution_count": 43,
     "metadata": {},
     "output_type": "execute_result"
    }
   ],
   "source": [
    "getSumIntervalBelowTauStar(2, 15., u, t, th, s, gaussian_tau, dst)"
   ]
  },
  {
   "cell_type": "markdown",
   "metadata": {},
   "source": [
    "R Value: 0.1914828271474277"
   ]
  },
  {
   "cell_type": "code",
   "execution_count": 46,
   "metadata": {
    "collapsed": false
   },
   "outputs": [
    {
     "data": {
      "text/plain": [
       "getSumIntervalAboveTauStar (generic function with 1 method)"
      ]
     },
     "execution_count": 46,
     "metadata": {},
     "output_type": "execute_result"
    }
   ],
   "source": [
    "function getSumIntervalAboveTauStar(iStar, tauiStar, mu, tau, theta, sigma,\n",
    "                                           gaussian_tau, dst)\n",
    "    ti = tau[iStar]\n",
    "\n",
    "    jInBetween = find(x -> ((x>tauiStar) & (x<ti)), tau)\n",
    "    sumAbove = 0\n",
    "    for j = jInBetween\n",
    "            sumAbove = sumAbove +\n",
    "                (ti + tauiStar - 2*tau[j])*pdf(gaussian_tau, dst[iStar,j])\n",
    "    end\n",
    "    sumAbove = theta*sumAbove\n",
    "    sumAbove\n",
    "end"
   ]
  },
  {
   "cell_type": "code",
   "execution_count": 47,
   "metadata": {
    "collapsed": false
   },
   "outputs": [
    {
     "data": {
      "text/plain": [
       "0.12765521809828514"
      ]
     },
     "execution_count": 47,
     "metadata": {},
     "output_type": "execute_result"
    }
   ],
   "source": [
    "getSumIntervalAboveTauStar(1, 8., u, t, th, s, gaussian_tau, dst)"
   ]
  },
  {
   "cell_type": "markdown",
   "metadata": {},
   "source": [
    "R Value: 0.12765521809828514"
   ]
  },
  {
   "cell_type": "code",
   "execution_count": 49,
   "metadata": {
    "collapsed": false
   },
   "outputs": [
    {
     "data": {
      "text/plain": [
       "llRatio_tau (generic function with 1 method)"
      ]
     },
     "execution_count": 49,
     "metadata": {},
     "output_type": "execute_result"
    }
   ],
   "source": [
    "function llRatio_tau(tau, tauiStar, iStar, mu, theta, sigma, gaussian_tau,\n",
    "                          dst; \n",
    "                          Tlast=30.0)\n",
    "    N = length(tau)\n",
    "\n",
    "    dllTerm1 = mu*(tau[iStar] - tauiStar)\n",
    "    dllTerm2 = getMinSum(iStar, tauiStar, mu, tau, theta, sigma,\n",
    "                                gaussian_tau, dst)\n",
    "    dllTerm3 = getMaxSum(iStar, tauiStar, mu, tau, theta, sigma,\n",
    "                                gaussian_tau, dst)\n",
    "    dllTerm4 = getSumIntervalBelowTauStar(iStar, tauiStar, mu, tau,\n",
    "                                          theta, sigma, gaussian_tau, dst)\n",
    "    dllTerm5 = getSumIntervalAboveTauStar(iStar, tauiStar, mu, tau,\n",
    "                                          theta, sigma, gaussian_tau, dst)\n",
    "\n",
    "    tauStar = copy(tau)\n",
    "    tauStar[iStar] = tauiStar\n",
    "    dllTerm6 = getLogLambda(tauStar, theta, mu, sigma, dst, Tlast)\n",
    "    dllTerm7 = getLogLambda(tau, theta, mu, sigma, dst, Tlast)\n",
    "\n",
    "    dll = dllTerm1 + dllTerm2 + dllTerm3 + dllTerm4 + dllTerm5 +\n",
    "        dllTerm6 - dllTerm7\n",
    "    dll\n",
    "end"
   ]
  },
  {
   "cell_type": "code",
   "execution_count": 51,
   "metadata": {
    "collapsed": false
   },
   "outputs": [
    {
     "data": {
      "text/plain": [
       "0.06522284020653046"
      ]
     },
     "execution_count": 51,
     "metadata": {},
     "output_type": "execute_result"
    }
   ],
   "source": [
    "llRatio_tau(t, t[1]-0.5, 1, u, th, s, gaussian_tau, dst,Tlast=tl)"
   ]
  },
  {
   "cell_type": "markdown",
   "metadata": {},
   "source": [
    "R Value: 0.06522284020653046"
   ]
  },
  {
   "cell_type": "code",
   "execution_count": null,
   "metadata": {
    "collapsed": true
   },
   "outputs": [],
   "source": []
  }
 ],
 "metadata": {
  "kernelspec": {
   "display_name": "Julia 0.5.1",
   "language": "julia",
   "name": "julia-0.5"
  },
  "language_info": {
   "file_extension": ".jl",
   "mimetype": "application/julia",
   "name": "julia",
   "version": "0.5.1"
  }
 },
 "nbformat": 4,
 "nbformat_minor": 0
}
