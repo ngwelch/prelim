{
 "cells": [
  {
   "cell_type": "markdown",
   "metadata": {},
   "source": [
    "# Metropolis Sampler Subroutine Test"
   ]
  },
  {
   "cell_type": "markdown",
   "metadata": {},
   "source": [
    "### Initialize priors and parameter values"
   ]
  },
  {
   "cell_type": "code",
   "execution_count": 1,
   "metadata": {
    "collapsed": true
   },
   "outputs": [],
   "source": [
    "mu_shape=0.7; \n",
    "mu_rate=0.004;\n",
    "theta_shape=0.8; \n",
    "theta_rate=10;\n",
    "sigma_shape=0.5; \n",
    "sigma_scale=100;\n",
    "Tlast = 30.;"
   ]
  },
  {
   "cell_type": "code",
   "execution_count": 90,
   "metadata": {
    "collapsed": false
   },
   "outputs": [],
   "source": [
    "theta = 0.105;\n",
    "sigma = 1.15;\n",
    "mu = 0.003;"
   ]
  },
  {
   "cell_type": "markdown",
   "metadata": {},
   "source": [
    "### Load likelihood codes and test data"
   ]
  },
  {
   "cell_type": "code",
   "execution_count": 80,
   "metadata": {
    "collapsed": false,
    "scrolled": true
   },
   "outputs": [
    {
     "name": "stderr",
     "output_type": "stream",
     "text": [
      "WARNING: Method definition getThetafxixj(Any, Any, Any) in module Main at /Users/nwelch/prelim/src/Julia/optimized_likelihood_functions.jl:11 overwritten at /Users/nwelch/prelim/src/Julia/optimized_likelihood_functions.jl:11.\n",
      "WARNING: Method definition getLogLambda(Any, Any, Any) in module Main at /Users/nwelch/prelim/src/Julia/optimized_likelihood_functions.jl:22 overwritten at /Users/nwelch/prelim/src/Julia/optimized_likelihood_functions.jl:22.\n",
      "WARNING: Method definition getLogLambda(Any, Any, Any, Any) in module Main at /Users/nwelch/prelim/src/Julia/optimized_likelihood_functions.jl:22 overwritten at /Users/nwelch/prelim/src/Julia/optimized_likelihood_functions.jl:22.\n",
      "WARNING: Method definition llRatio_mu(Any, Any, Any, Any) in module Main at /Users/nwelch/prelim/src/Julia/optimized_likelihood_functions.jl:42 overwritten at /Users/nwelch/prelim/src/Julia/optimized_likelihood_functions.jl:42.\n",
      "WARNING: Method definition llRatio_mu(Any, Any, Any, Any, Any) in module Main at /Users/nwelch/prelim/src/Julia/optimized_likelihood_functions.jl:42 overwritten at /Users/nwelch/prelim/src/Julia/optimized_likelihood_functions.jl:42.\n",
      "WARNING: Method definition llRatio_mu(Any, Any, Any, Any, Any, Any) in module Main at /Users/nwelch/prelim/src/Julia/optimized_likelihood_functions.jl:42 overwritten at /Users/nwelch/prelim/src/Julia/optimized_likelihood_functions.jl:42.\n",
      "WARNING: Method definition llRatio_mu(Any, Any, Any, Any, Any, Any, Any) in module Main at /Users/nwelch/prelim/src/Julia/optimized_likelihood_functions.jl:42 overwritten at /Users/nwelch/prelim/src/Julia/optimized_likelihood_functions.jl:42.\n",
      "WARNING: Method definition getSumLessT_sigma(Any, Any, Any) in module Main at /Users/nwelch/prelim/src/Julia/optimized_likelihood_functions.jl:68 overwritten at /Users/nwelch/prelim/src/Julia/optimized_likelihood_functions.jl:68.\n",
      "WARNING: Method definition getSumLessT_sigma(Any, Any, Any, Any) in module Main at /Users/nwelch/prelim/src/Julia/optimized_likelihood_functions.jl:68 overwritten at /Users/nwelch/prelim/src/Julia/optimized_likelihood_functions.jl:68.\n",
      "WARNING: Method definition getSumGreaterT_sigma(Any, Any, Any) in module Main at /Users/nwelch/prelim/src/Julia/optimized_likelihood_functions.jl:87 overwritten at /Users/nwelch/prelim/src/Julia/optimized_likelihood_functions.jl:87.\n",
      "WARNING: Method definition getSumGreaterT_sigma(Any, Any, Any, Any) in module Main at /Users/nwelch/prelim/src/Julia/optimized_likelihood_functions.jl:87 overwritten at /Users/nwelch/prelim/src/Julia/optimized_likelihood_functions.jl:87.\n",
      "WARNING: Method definition llRatio_sigma(Any, Any, Any, Any, Any) in module Main at /Users/nwelch/prelim/src/Julia/optimized_likelihood_functions.jl:107 overwritten at /Users/nwelch/prelim/src/Julia/optimized_likelihood_functions.jl:107.\n",
      "WARNING: Method definition llRatio_sigma(Any, Any, Any, Any, Any, Any) in module Main at /Users/nwelch/prelim/src/Julia/optimized_likelihood_functions.jl:107 overwritten at /Users/nwelch/prelim/src/Julia/optimized_likelihood_functions.jl:107.\n",
      "WARNING: Method definition llRatio_sigma(Any, Any, Any, Any, Any, Any, Any) in module Main at /Users/nwelch/prelim/src/Julia/optimized_likelihood_functions.jl:107 overwritten at /Users/nwelch/prelim/src/Julia/optimized_likelihood_functions.jl:107.\n",
      "WARNING: Method definition llRatio_sigma(Any, Any, Any, Any, Any, Any, Any, Any) in module Main at /Users/nwelch/prelim/src/Julia/optimized_likelihood_functions.jl:107 overwritten at /Users/nwelch/prelim/src/Julia/optimized_likelihood_functions.jl:107.\n",
      "WARNING: Method definition getSumLessT_theta(Any, Any, Any, Any, Any, Any, Any, Any, Any) in module Main at /Users/nwelch/prelim/src/Julia/optimized_likelihood_functions.jl:134 overwritten at /Users/nwelch/prelim/src/Julia/optimized_likelihood_functions.jl:134.\n",
      "WARNING: Method definition getSumLessT_theta(Any, Any, Any, Any, Any, Any, Any, Any, Any, Any) in module Main at /Users/nwelch/prelim/src/Julia/optimized_likelihood_functions.jl:134 overwritten at /Users/nwelch/prelim/src/Julia/optimized_likelihood_functions.jl:134.\n",
      "WARNING: Method definition getSumGreaterT_theta(Any, Any, Any, Any, Any, Any, Any, Any, Any) in module Main at /Users/nwelch/prelim/src/Julia/optimized_likelihood_functions.jl:153 overwritten at /Users/nwelch/prelim/src/Julia/optimized_likelihood_functions.jl:153.\n",
      "WARNING: Method definition getSumGreaterT_theta(Any, Any, Any, Any, Any, Any, Any, Any, Any, Any) in module Main at /Users/nwelch/prelim/src/Julia/optimized_likelihood_functions.jl:153 overwritten at /Users/nwelch/prelim/src/Julia/optimized_likelihood_functions.jl:153.\n",
      "WARNING: Method definition llRatio_theta(Any, Any, Any, Any, Any, Any) in module Main at /Users/nwelch/prelim/src/Julia/optimized_likelihood_functions.jl:171 overwritten at /Users/nwelch/prelim/src/Julia/optimized_likelihood_functions.jl:171.\n",
      "WARNING: Method definition llRatio_theta(Any, Any, Any, Any, Any, Any, Any) in module Main at /Users/nwelch/prelim/src/Julia/optimized_likelihood_functions.jl:171 overwritten at /Users/nwelch/prelim/src/Julia/optimized_likelihood_functions.jl:171.\n",
      "WARNING: Method definition llRatio_theta(Any, Any, Any, Any, Any, Any, Any, Any) in module Main at /Users/nwelch/prelim/src/Julia/optimized_likelihood_functions.jl:171 overwritten at /Users/nwelch/prelim/src/Julia/optimized_likelihood_functions.jl:171.\n",
      "WARNING: Method definition llRatio_theta(Any, Any, Any, Any, Any, Any, Any, Any, Any) in module Main at /Users/nwelch/prelim/src/Julia/optimized_likelihood_functions.jl:171 overwritten at /Users/nwelch/prelim/src/Julia/optimized_likelihood_functions.jl:171.\n",
      "WARNING: Method definition getMinSum(Any, Any, Any, Any) in module Main at /Users/nwelch/prelim/src/Julia/optimized_likelihood_functions.jl:200 overwritten at /Users/nwelch/prelim/src/Julia/optimized_likelihood_functions.jl:200.\n",
      "WARNING: Method definition getMaxSum(Any, Any, Any, Any) in module Main at /Users/nwelch/prelim/src/Julia/optimized_likelihood_functions.jl:214 overwritten at /Users/nwelch/prelim/src/Julia/optimized_likelihood_functions.jl:214.\n",
      "WARNING: Method definition getSumIntervalBelowTauStar(Any, Any, Any, Any) in module Main at /Users/nwelch/prelim/src/Julia/optimized_likelihood_functions.jl:229 overwritten at /Users/nwelch/prelim/src/Julia/optimized_likelihood_functions.jl:229.\n",
      "WARNING: Method definition getSumIntervalAboveTauStar(Any, Any, Any, Any) in module Main at /Users/nwelch/prelim/src/Julia/optimized_likelihood_functions.jl:241 overwritten at /Users/nwelch/prelim/src/Julia/optimized_likelihood_functions.jl:241.\n",
      "WARNING: Method definition llRatio_tau(Any, Any, Any, Any, Any, Any) in module Main at /Users/nwelch/prelim/src/Julia/optimized_likelihood_functions.jl:254 overwritten at /Users/nwelch/prelim/src/Julia/optimized_likelihood_functions.jl:254.\n",
      "WARNING: Method definition llRatio_tau(Any, Any, Any, Any, Any, Any, Any) in module Main at /Users/nwelch/prelim/src/Julia/optimized_likelihood_functions.jl:254 overwritten at /Users/nwelch/prelim/src/Julia/optimized_likelihood_functions.jl:254.\n"
     ]
    }
   ],
   "source": [
    "include(\"/Users/nwelch/prelim/src/Julia/optimized_likelihood_functions.jl\");"
   ]
  },
  {
   "cell_type": "code",
   "execution_count": 48,
   "metadata": {
    "collapsed": false
   },
   "outputs": [],
   "source": [
    "df = readtable(\"/Users/nwelch/prelim/data/plantDataTest.csv\");\n",
    "dxixj = convert(Matrix, readtable(\"/Users/nwelch/prelim/data/dxixjTest.csv\"));"
   ]
  },
  {
   "cell_type": "markdown",
   "metadata": {},
   "source": [
    "### Simulation Setup"
   ]
  },
  {
   "cell_type": "code",
   "execution_count": 5,
   "metadata": {
    "collapsed": false
   },
   "outputs": [],
   "source": [
    "trials = 10;\n",
    "infectionCount = sum(df[:t6]);\n",
    "accept = fill(0, 4);\n",
    "accept[4] = trials;"
   ]
  },
  {
   "cell_type": "code",
   "execution_count": 6,
   "metadata": {
    "collapsed": true
   },
   "outputs": [],
   "source": [
    "zero = now()-now()\n",
    "mu_time = zero;\n",
    "sigma_time = zero; \n",
    "tau_time = zero;\n",
    "theta_time = zero;"
   ]
  },
  {
   "cell_type": "code",
   "execution_count": 7,
   "metadata": {
    "collapsed": false
   },
   "outputs": [],
   "source": [
    "firstInfection = indmin(df[:tau]);\n",
    "lastInfection = length(df[:tau]);\n",
    "infectionIndex = firstInfection:lastInfection;"
   ]
  },
  {
   "cell_type": "code",
   "execution_count": 8,
   "metadata": {
    "collapsed": false
   },
   "outputs": [],
   "source": [
    "tau = convert(Array, copy(df[:tau]));\n",
    "tauLowerBound = df[:tauLowerBound];\n",
    "tauUpperBound = df[:tauUpperBound];"
   ]
  },
  {
   "cell_type": "code",
   "execution_count": 11,
   "metadata": {
    "collapsed": false
   },
   "outputs": [],
   "source": [
    "chain = Array{Float64}(trials, (3+infectionCount));\n",
    "chain[1,1:infectionCount] = copy(tau[infectionIndex]);\n",
    "chain[1,(infectionCount+1):(infectionCount+3)] = copy([mu sigma theta]);"
   ]
  },
  {
   "cell_type": "code",
   "execution_count": 12,
   "metadata": {
    "collapsed": true
   },
   "outputs": [],
   "source": [
    "U = Uniform();"
   ]
  },
  {
   "cell_type": "code",
   "execution_count": 13,
   "metadata": {
    "collapsed": false
   },
   "outputs": [
    {
     "data": {
      "text/plain": [
       "2"
      ]
     },
     "execution_count": 13,
     "metadata": {},
     "output_type": "execute_result"
    }
   ],
   "source": [
    "r=2"
   ]
  },
  {
   "cell_type": "code",
   "execution_count": 15,
   "metadata": {
    "collapsed": false
   },
   "outputs": [],
   "source": [
    "u = rand(U, (infectionCount+3));\n",
    "logU = log(u);"
   ]
  },
  {
   "cell_type": "code",
   "execution_count": 59,
   "metadata": {
    "collapsed": false
   },
   "outputs": [],
   "source": [
    "thetafxixj = getThetafxixj(theta, sigma, dxixj);\n",
    "mu_start = now();\n",
    "J_mu = Normal(mu, 0.0005);\n",
    "muStar = rand(J_mu, 1)[1];\n",
    "if muStar>0.0\n",
    "    logLRatio_mu = llRatio_mu(mu, muStar, tau, thetafxixj,\n",
    "        Tlast, mu_shape, mu_rate)\n",
    "\n",
    "        if logU[1] < logLRatio_mu\n",
    "            mu = copy(muStar)\n",
    "            accept[1] = accept[1] + 1\n",
    "        end\n",
    "    end\n",
    "mu_time = mu_time + (now() - mu_start);"
   ]
  },
  {
   "cell_type": "code",
   "execution_count": 71,
   "metadata": {
    "collapsed": false
   },
   "outputs": [],
   "source": [
    "# update sigma\n",
    "thetafxixj = getThetafxixj(theta, sigma, dxixj)\n",
    "sigma_start = now()\n",
    "J_sigma = Normal(sigma, 0.05)\n",
    "sigmaStar = rand(J_sigma, 1)[1]\n",
    "if sigmaStar>0.0\n",
    "    logLRatio_sigma = llRatio_sigma(sigma, sigmaStar, thetafxixj,\n",
    "        mu, tau, Tlast, sigma_shape, sigma_scale)\n",
    "    if logU[2] < logLRatio_sigma\n",
    "        sigma = copy(sigmaStar)\n",
    "        accept[2] = accept[2] + 1\n",
    "    end\n",
    "end\n",
    "sigma_time = sigma_time + (now() - sigma_start);"
   ]
  },
  {
   "cell_type": "code",
   "execution_count": 75,
   "metadata": {
    "collapsed": false,
    "scrolled": true
   },
   "outputs": [],
   "source": [
    "# update theta\n",
    "thetafxixj = getThetafxixj(theta, sigma, dxixj)\n",
    "theta_start = now()\n",
    "J_theta = Normal(theta, 0.005)\n",
    "thetaStar = rand(J_theta, 1)[1]\n",
    "if thetaStar>0.\n",
    "    logLRatio_theta = llRatio_theta(theta, thetaStar, mu, tau, sigma,\n",
    "        dxixj, Tlast, theta_shape, theta_rate)\n",
    "    \n",
    "    if logU[3] < logLRatio_theta\n",
    "        theta = copy(thetaStar)\n",
    "        accept[3] = accept[3] + 1\n",
    "    end\n",
    "end\n",
    "theta_time = theta_time + (now() - theta_start);"
   ]
  },
  {
   "cell_type": "code",
   "execution_count": 81,
   "metadata": {
    "collapsed": false
   },
   "outputs": [],
   "source": [
    "#tau update\n",
    "tau_start = now()\n",
    "gaussian_tau = Normal(mu, sigma)\n",
    "lastLogLambda = getLogLambda(tau, mu, thetafxixj, Tlast)\n",
    "for iStar=infectionIndex\n",
    "#@sync @parallel for iStar=infectionIndex\n",
    "    J_taui = Normal(tau[iStar], 1)\n",
    "    tauiStar = rand(J_taui, 1)[1]\n",
    "    \n",
    "    lowerBound = tauLowerBound[iStar]\n",
    "    upperBound = tauUpperBound[iStar]\n",
    "    \n",
    "    if (tauiStar<upperBound) & (tauiStar>lowerBound)\n",
    "        logLRatio_tau = llRatio_tau(tau, tauiStar, iStar, mu,\n",
    "            thetafxixj, lastLogLambda, Tlast)\n",
    "        \n",
    "        index = iStar-firstInfection+1\n",
    "        if logU[(index+3)] < logLRatio_tau\n",
    "            tau[iStar] = copy(tauiStar)\n",
    "            lastLogLambda = getLogLambda(tau, mu, thetafxixj, Tlast)\n",
    "        end\n",
    "    end\n",
    "end\n",
    "tau_time = tau_time + (now() - tau_start);"
   ]
  },
  {
   "cell_type": "code",
   "execution_count": 86,
   "metadata": {
    "collapsed": false
   },
   "outputs": [],
   "source": [
    "chain[r,1:infectionCount] = copy(tau[infectionIndex]);\n",
    "chain[r,(infectionCount+1):(infectionCount+3)] = copy([mu sigma theta]);"
   ]
  },
  {
   "cell_type": "code",
   "execution_count": 87,
   "metadata": {
    "collapsed": false
   },
   "outputs": [],
   "source": [
    "metrics = DataFrame(\n",
    "    mu_accept=accept[1],\n",
    "    sigma_accept=accept[2],\n",
    "    theta_accept=accept[3],\n",
    "    mu_time=mu_time,\n",
    "    sigma_time=sigma_time,\n",
    "    theta_time=theta_time,\n",
    "    tau_time=tau_time);"
   ]
  },
  {
   "cell_type": "code",
   "execution_count": 88,
   "metadata": {
    "collapsed": false
   },
   "outputs": [],
   "source": [
    "chainDF = DataFrame(chain);\n",
    "chainColNames = [Symbol(\"tau$i\") for i in 1:(infectionCount)];\n",
    "chainColNames = append!(chainColNames, [\"mu\",\"sigma\",\"theta\"]);\n",
    "names!(chainDF, chainColNames);"
   ]
  }
 ],
 "metadata": {
  "kernelspec": {
   "display_name": "Julia 0.5.1",
   "language": "julia",
   "name": "julia-0.5"
  },
  "language_info": {
   "file_extension": ".jl",
   "mimetype": "application/julia",
   "name": "julia",
   "version": "0.5.1"
  }
 },
 "nbformat": 4,
 "nbformat_minor": 2
}
